{
 "cells": [
  {
   "cell_type": "code",
   "execution_count": 1,
   "id": "6efdaf43",
   "metadata": {
    "ExecuteTime": {
     "end_time": "2023-10-30T19:30:40.676577Z",
     "start_time": "2023-10-30T19:30:40.666659Z"
    }
   },
   "outputs": [
    {
     "data": {
      "text/html": [
       "<style>\n",
       "table {float:left}\n",
       "</style>\n"
      ],
      "text/plain": [
       "<IPython.core.display.HTML object>"
      ]
     },
     "metadata": {},
     "output_type": "display_data"
    }
   ],
   "source": [
    "%%html\n",
    "<style>\n",
    "table {float:left}\n",
    "</style>"
   ]
  },
  {
   "cell_type": "markdown",
   "id": "cd164985",
   "metadata": {
    "heading_collapsed": true
   },
   "source": [
    "# 0.0 Imports"
   ]
  },
  {
   "cell_type": "code",
   "execution_count": 1,
   "id": "3e2c10e3",
   "metadata": {
    "ExecuteTime": {
     "end_time": "2023-10-30T19:30:42.904297Z",
     "start_time": "2023-10-30T19:30:41.830024Z"
    },
    "hidden": true
   },
   "outputs": [],
   "source": [
    "import numpy  as np\n",
    "import pandas as pd\n",
    "import matplotlib.pyplot as plt\n",
    "\n",
    "from sklearn.neighbors    import KNeighborsClassifier\n",
    "from sklearn.tree         import DecisionTreeClassifier\n",
    "from sklearn.ensemble     import RandomForestClassifier\n",
    "from sklearn.linear_model import LogisticRegression\n",
    "\n",
    "from sklearn.metrics      import confusion_matrix"
   ]
  },
  {
   "cell_type": "markdown",
   "id": "916eb37c",
   "metadata": {
    "heading_collapsed": true,
    "hidden": true
   },
   "source": [
    "## 0.1 Helper Functions"
   ]
  },
  {
   "cell_type": "code",
   "execution_count": 3,
   "id": "3f1b6df3",
   "metadata": {
    "ExecuteTime": {
     "end_time": "2023-10-30T19:30:45.098433Z",
     "start_time": "2023-10-30T19:30:45.084689Z"
    },
    "hidden": true
   },
   "outputs": [],
   "source": [
    "import sys\n",
    "sys.path.append('../')\n",
    "\n",
    "from src.helpers import ml_training, get_scores_classification, update_dataframe"
   ]
  },
  {
   "cell_type": "code",
   "execution_count": 4,
   "id": "1a5d709f",
   "metadata": {
    "ExecuteTime": {
     "end_time": "2023-10-30T19:36:51.003348Z",
     "start_time": "2023-10-30T19:36:51.000324Z"
    },
    "hidden": true
   },
   "outputs": [],
   "source": [
    "def register_performance(model, name, X, y, df_score):\n",
    "    \n",
    "    # model predict\n",
    "    yhat = model.predict(X)\n",
    "\n",
    "    # model performance\n",
    "    data = get_scores_classification(name, y, yhat)\n",
    "\n",
    "    # updating dataframe\n",
    "    df_score = update_dataframe(df_score, data)\n",
    "    \n",
    "    return df_score"
   ]
  },
  {
   "cell_type": "markdown",
   "id": "9ad7534f",
   "metadata": {
    "heading_collapsed": true,
    "hidden": true
   },
   "source": [
    "## 0.2 Loading Datasets"
   ]
  },
  {
   "cell_type": "code",
   "execution_count": 5,
   "id": "b72b232d",
   "metadata": {
    "ExecuteTime": {
     "end_time": "2023-10-30T19:30:51.942008Z",
     "start_time": "2023-10-30T19:30:51.708541Z"
    },
    "hidden": true
   },
   "outputs": [],
   "source": [
    "df_train = pd.read_csv('../data/classificacao/X_training.csv')\n",
    "df_val   = pd.read_csv('../data/classificacao/X_validation.csv')\n",
    "df_test  = pd.read_csv('../data/classificacao/X_test.csv')\n",
    "\n",
    "y_train = pd.read_csv('../data/classificacao/y_training.csv').values\n",
    "y_val   = pd.read_csv('../data/classificacao/y_validation.csv').values\n",
    "y_test  = pd.read_csv('../data/classificacao/y_test.csv').values"
   ]
  },
  {
   "cell_type": "code",
   "execution_count": 6,
   "id": "4ae0ab50",
   "metadata": {
    "ExecuteTime": {
     "end_time": "2023-10-30T19:30:52.477010Z",
     "start_time": "2023-10-30T19:30:52.448872Z"
    },
    "hidden": true
   },
   "outputs": [
    {
     "data": {
      "text/html": [
       "<div>\n",
       "<style scoped>\n",
       "    .dataframe tbody tr th:only-of-type {\n",
       "        vertical-align: middle;\n",
       "    }\n",
       "\n",
       "    .dataframe tbody tr th {\n",
       "        vertical-align: top;\n",
       "    }\n",
       "\n",
       "    .dataframe thead th {\n",
       "        text-align: right;\n",
       "    }\n",
       "</style>\n",
       "<table border=\"1\" class=\"dataframe\">\n",
       "  <thead>\n",
       "    <tr style=\"text-align: right;\">\n",
       "      <th></th>\n",
       "      <th>id</th>\n",
       "      <th>customer_type</th>\n",
       "      <th>age</th>\n",
       "      <th>class</th>\n",
       "      <th>flight_distance</th>\n",
       "      <th>inflight_wifi_service</th>\n",
       "      <th>departure_arrival_time_convenient</th>\n",
       "      <th>ease_of_online_booking</th>\n",
       "      <th>gate_location</th>\n",
       "      <th>food_and_drink</th>\n",
       "      <th>...</th>\n",
       "      <th>baggage_handling</th>\n",
       "      <th>checkin_service</th>\n",
       "      <th>inflight_service</th>\n",
       "      <th>cleanliness</th>\n",
       "      <th>departure_delay_in_minutes</th>\n",
       "      <th>arrival_delay_in_minutes</th>\n",
       "      <th>gender_Female</th>\n",
       "      <th>gender_Male</th>\n",
       "      <th>type_of_travel_business_travel</th>\n",
       "      <th>type_of_travel_personal_travel</th>\n",
       "    </tr>\n",
       "  </thead>\n",
       "  <tbody>\n",
       "    <tr>\n",
       "      <th>0</th>\n",
       "      <td>13508</td>\n",
       "      <td>1</td>\n",
       "      <td>0.500000</td>\n",
       "      <td>0.0</td>\n",
       "      <td>0.039580</td>\n",
       "      <td>0.6</td>\n",
       "      <td>0.6</td>\n",
       "      <td>0.6</td>\n",
       "      <td>0.6</td>\n",
       "      <td>1.0</td>\n",
       "      <td>...</td>\n",
       "      <td>0.5</td>\n",
       "      <td>1.00</td>\n",
       "      <td>0.6</td>\n",
       "      <td>0.4</td>\n",
       "      <td>0.000000</td>\n",
       "      <td>0.013848</td>\n",
       "      <td>1.0</td>\n",
       "      <td>0.0</td>\n",
       "      <td>1.0</td>\n",
       "      <td>0.0</td>\n",
       "    </tr>\n",
       "    <tr>\n",
       "      <th>1</th>\n",
       "      <td>28874</td>\n",
       "      <td>1</td>\n",
       "      <td>0.243590</td>\n",
       "      <td>0.0</td>\n",
       "      <td>0.205775</td>\n",
       "      <td>0.6</td>\n",
       "      <td>0.4</td>\n",
       "      <td>0.4</td>\n",
       "      <td>0.4</td>\n",
       "      <td>0.6</td>\n",
       "      <td>...</td>\n",
       "      <td>0.5</td>\n",
       "      <td>0.50</td>\n",
       "      <td>0.2</td>\n",
       "      <td>0.6</td>\n",
       "      <td>0.000000</td>\n",
       "      <td>0.000000</td>\n",
       "      <td>0.0</td>\n",
       "      <td>1.0</td>\n",
       "      <td>1.0</td>\n",
       "      <td>0.0</td>\n",
       "    </tr>\n",
       "    <tr>\n",
       "      <th>2</th>\n",
       "      <td>21484</td>\n",
       "      <td>0</td>\n",
       "      <td>0.435897</td>\n",
       "      <td>1.0</td>\n",
       "      <td>0.026858</td>\n",
       "      <td>0.6</td>\n",
       "      <td>0.6</td>\n",
       "      <td>0.6</td>\n",
       "      <td>0.2</td>\n",
       "      <td>1.0</td>\n",
       "      <td>...</td>\n",
       "      <td>0.0</td>\n",
       "      <td>1.00</td>\n",
       "      <td>0.6</td>\n",
       "      <td>1.0</td>\n",
       "      <td>0.000000</td>\n",
       "      <td>0.000000</td>\n",
       "      <td>1.0</td>\n",
       "      <td>0.0</td>\n",
       "      <td>1.0</td>\n",
       "      <td>0.0</td>\n",
       "    </tr>\n",
       "    <tr>\n",
       "      <th>3</th>\n",
       "      <td>48280</td>\n",
       "      <td>1</td>\n",
       "      <td>0.589744</td>\n",
       "      <td>0.5</td>\n",
       "      <td>0.041397</td>\n",
       "      <td>0.6</td>\n",
       "      <td>1.0</td>\n",
       "      <td>0.6</td>\n",
       "      <td>0.6</td>\n",
       "      <td>0.8</td>\n",
       "      <td>...</td>\n",
       "      <td>0.0</td>\n",
       "      <td>1.00</td>\n",
       "      <td>0.4</td>\n",
       "      <td>0.4</td>\n",
       "      <td>0.029499</td>\n",
       "      <td>0.020772</td>\n",
       "      <td>1.0</td>\n",
       "      <td>0.0</td>\n",
       "      <td>0.0</td>\n",
       "      <td>1.0</td>\n",
       "    </tr>\n",
       "    <tr>\n",
       "      <th>4</th>\n",
       "      <td>472</td>\n",
       "      <td>0</td>\n",
       "      <td>0.423077</td>\n",
       "      <td>1.0</td>\n",
       "      <td>0.016559</td>\n",
       "      <td>0.2</td>\n",
       "      <td>0.2</td>\n",
       "      <td>0.2</td>\n",
       "      <td>0.8</td>\n",
       "      <td>0.6</td>\n",
       "      <td>...</td>\n",
       "      <td>1.0</td>\n",
       "      <td>0.75</td>\n",
       "      <td>0.8</td>\n",
       "      <td>0.6</td>\n",
       "      <td>0.021632</td>\n",
       "      <td>0.019782</td>\n",
       "      <td>0.0</td>\n",
       "      <td>1.0</td>\n",
       "      <td>1.0</td>\n",
       "      <td>0.0</td>\n",
       "    </tr>\n",
       "  </tbody>\n",
       "</table>\n",
       "<p>5 rows × 25 columns</p>\n",
       "</div>"
      ],
      "text/plain": [
       "      id  customer_type       age  class  flight_distance  \\\n",
       "0  13508              1  0.500000    0.0         0.039580   \n",
       "1  28874              1  0.243590    0.0         0.205775   \n",
       "2  21484              0  0.435897    1.0         0.026858   \n",
       "3  48280              1  0.589744    0.5         0.041397   \n",
       "4    472              0  0.423077    1.0         0.016559   \n",
       "\n",
       "   inflight_wifi_service  departure_arrival_time_convenient  \\\n",
       "0                    0.6                                0.6   \n",
       "1                    0.6                                0.4   \n",
       "2                    0.6                                0.6   \n",
       "3                    0.6                                1.0   \n",
       "4                    0.2                                0.2   \n",
       "\n",
       "   ease_of_online_booking  gate_location  food_and_drink  ...  \\\n",
       "0                     0.6            0.6             1.0  ...   \n",
       "1                     0.4            0.4             0.6  ...   \n",
       "2                     0.6            0.2             1.0  ...   \n",
       "3                     0.6            0.6             0.8  ...   \n",
       "4                     0.2            0.8             0.6  ...   \n",
       "\n",
       "   baggage_handling  checkin_service  inflight_service  cleanliness  \\\n",
       "0               0.5             1.00               0.6          0.4   \n",
       "1               0.5             0.50               0.2          0.6   \n",
       "2               0.0             1.00               0.6          1.0   \n",
       "3               0.0             1.00               0.4          0.4   \n",
       "4               1.0             0.75               0.8          0.6   \n",
       "\n",
       "   departure_delay_in_minutes  arrival_delay_in_minutes  gender_Female  \\\n",
       "0                    0.000000                  0.013848            1.0   \n",
       "1                    0.000000                  0.000000            0.0   \n",
       "2                    0.000000                  0.000000            1.0   \n",
       "3                    0.029499                  0.020772            1.0   \n",
       "4                    0.021632                  0.019782            0.0   \n",
       "\n",
       "   gender_Male  type_of_travel_business_travel  type_of_travel_personal_travel  \n",
       "0          0.0                             1.0                             0.0  \n",
       "1          1.0                             1.0                             0.0  \n",
       "2          0.0                             1.0                             0.0  \n",
       "3          0.0                             0.0                             1.0  \n",
       "4          1.0                             1.0                             0.0  \n",
       "\n",
       "[5 rows x 25 columns]"
      ]
     },
     "execution_count": 6,
     "metadata": {},
     "output_type": "execute_result"
    }
   ],
   "source": [
    "df_train.head()"
   ]
  },
  {
   "cell_type": "code",
   "execution_count": 7,
   "id": "384176b9",
   "metadata": {
    "ExecuteTime": {
     "end_time": "2023-10-30T19:30:54.473912Z",
     "start_time": "2023-10-30T19:30:54.470503Z"
    },
    "hidden": true
   },
   "outputs": [
    {
     "data": {
      "text/plain": [
       "(72515, 25)"
      ]
     },
     "execution_count": 7,
     "metadata": {},
     "output_type": "execute_result"
    }
   ],
   "source": [
    "df_train.shape"
   ]
  },
  {
   "cell_type": "code",
   "execution_count": 8,
   "id": "00d1ac5a",
   "metadata": {
    "ExecuteTime": {
     "end_time": "2023-10-30T19:30:55.006143Z",
     "start_time": "2023-10-30T19:30:54.999191Z"
    },
    "hidden": true
   },
   "outputs": [
    {
     "data": {
      "text/plain": [
       "array([[1],\n",
       "       [1],\n",
       "       [0],\n",
       "       ...,\n",
       "       [1],\n",
       "       [0],\n",
       "       [0]])"
      ]
     },
     "execution_count": 8,
     "metadata": {},
     "output_type": "execute_result"
    }
   ],
   "source": [
    "# ao importarmos os dados da variável resposta recebemos um array coluna de shape (n, 1). No entanto, no processo\n",
    "# de treinamento do algoritmo devemos usar uma array unidimensional, para fazermos a conversão, usamos o método\n",
    "# .ravel()\n",
    "y_train"
   ]
  },
  {
   "cell_type": "code",
   "execution_count": 9,
   "id": "b49e0511",
   "metadata": {
    "ExecuteTime": {
     "end_time": "2023-10-30T19:30:55.505215Z",
     "start_time": "2023-10-30T19:30:55.497373Z"
    },
    "hidden": true
   },
   "outputs": [
    {
     "data": {
      "text/plain": [
       "array([1, 1, 0, ..., 1, 0, 0])"
      ]
     },
     "execution_count": 9,
     "metadata": {},
     "output_type": "execute_result"
    }
   ],
   "source": [
    "y_train = y_train.ravel()\n",
    "y_val   = y_val.ravel()\n",
    "y_test  = y_test.ravel()\n",
    "\n",
    "y_train"
   ]
  },
  {
   "cell_type": "markdown",
   "id": "a8e034d0",
   "metadata": {
    "hidden": true
   },
   "source": [
    "Inicialmente vamos checar se existe alguma variável categórica e valores nulos."
   ]
  },
  {
   "cell_type": "code",
   "execution_count": 10,
   "id": "151d6a4c",
   "metadata": {
    "ExecuteTime": {
     "end_time": "2023-10-30T19:30:57.165795Z",
     "start_time": "2023-10-30T19:30:57.161164Z"
    },
    "hidden": true
   },
   "outputs": [
    {
     "data": {
      "text/plain": [
       "id                                     int64\n",
       "customer_type                          int64\n",
       "age                                  float64\n",
       "class                                float64\n",
       "flight_distance                      float64\n",
       "inflight_wifi_service                float64\n",
       "departure_arrival_time_convenient    float64\n",
       "ease_of_online_booking               float64\n",
       "gate_location                        float64\n",
       "food_and_drink                       float64\n",
       "online_boarding                      float64\n",
       "seat_comfort                         float64\n",
       "inflight_entertainment               float64\n",
       "on_board_service                     float64\n",
       "leg_room_service                     float64\n",
       "baggage_handling                     float64\n",
       "checkin_service                      float64\n",
       "inflight_service                     float64\n",
       "cleanliness                          float64\n",
       "departure_delay_in_minutes           float64\n",
       "arrival_delay_in_minutes             float64\n",
       "gender_Female                        float64\n",
       "gender_Male                          float64\n",
       "type_of_travel_business_travel       float64\n",
       "type_of_travel_personal_travel       float64\n",
       "dtype: object"
      ]
     },
     "execution_count": 10,
     "metadata": {},
     "output_type": "execute_result"
    }
   ],
   "source": [
    "df_train.dtypes"
   ]
  },
  {
   "cell_type": "code",
   "execution_count": 11,
   "id": "9379064f",
   "metadata": {
    "ExecuteTime": {
     "end_time": "2023-10-30T19:30:57.628697Z",
     "start_time": "2023-10-30T19:30:57.620389Z"
    },
    "hidden": true
   },
   "outputs": [
    {
     "data": {
      "text/plain": [
       "id                                   0\n",
       "customer_type                        0\n",
       "age                                  0\n",
       "class                                0\n",
       "flight_distance                      0\n",
       "inflight_wifi_service                0\n",
       "departure_arrival_time_convenient    0\n",
       "ease_of_online_booking               0\n",
       "gate_location                        0\n",
       "food_and_drink                       0\n",
       "online_boarding                      0\n",
       "seat_comfort                         0\n",
       "inflight_entertainment               0\n",
       "on_board_service                     0\n",
       "leg_room_service                     0\n",
       "baggage_handling                     0\n",
       "checkin_service                      0\n",
       "inflight_service                     0\n",
       "cleanliness                          0\n",
       "departure_delay_in_minutes           0\n",
       "arrival_delay_in_minutes             0\n",
       "gender_Female                        0\n",
       "gender_Male                          0\n",
       "type_of_travel_business_travel       0\n",
       "type_of_travel_personal_travel       0\n",
       "dtype: int64"
      ]
     },
     "execution_count": 11,
     "metadata": {},
     "output_type": "execute_result"
    }
   ],
   "source": [
    "df_train.isna().sum()"
   ]
  },
  {
   "cell_type": "markdown",
   "id": "2f8631c1",
   "metadata": {
    "hidden": true
   },
   "source": [
    "Como não temos valores nulos e todas as variáveis são numéricas, podemos dar prosseguimento ao treinamento dos algoritmos."
   ]
  },
  {
   "cell_type": "code",
   "execution_count": 12,
   "id": "82511e0e",
   "metadata": {
    "ExecuteTime": {
     "end_time": "2023-10-30T19:31:01.719546Z",
     "start_time": "2023-10-30T19:31:01.703800Z"
    },
    "hidden": true
   },
   "outputs": [],
   "source": [
    "X_train = df_train.drop(['id'], axis=1).values\n",
    "X_val   = df_val.drop(['id'], axis=1).values\n",
    "X_test  = df_test.drop(['id'], axis=1).values"
   ]
  },
  {
   "cell_type": "markdown",
   "id": "5baa882b",
   "metadata": {
    "heading_collapsed": true
   },
   "source": [
    "# 1.0 Algorithms"
   ]
  },
  {
   "cell_type": "code",
   "execution_count": 13,
   "id": "0693332e",
   "metadata": {
    "ExecuteTime": {
     "end_time": "2023-10-30T19:31:37.232980Z",
     "start_time": "2023-10-30T19:31:37.224106Z"
    },
    "hidden": true
   },
   "outputs": [],
   "source": [
    "classification_columns = ['Algorithm', 'Accuracy', 'Precision', 'Recall', 'F1_score']\n",
    "\n",
    "train_scores = pd.DataFrame(columns=classification_columns)\n",
    "val_scores   = pd.DataFrame(columns=classification_columns)\n",
    "test_scores  = pd.DataFrame(columns=classification_columns)"
   ]
  },
  {
   "cell_type": "code",
   "execution_count": 14,
   "id": "6c68158f",
   "metadata": {
    "ExecuteTime": {
     "end_time": "2023-10-30T19:31:38.153479Z",
     "start_time": "2023-10-30T19:31:38.145095Z"
    },
    "hidden": true
   },
   "outputs": [
    {
     "data": {
      "text/html": [
       "<div>\n",
       "<style scoped>\n",
       "    .dataframe tbody tr th:only-of-type {\n",
       "        vertical-align: middle;\n",
       "    }\n",
       "\n",
       "    .dataframe tbody tr th {\n",
       "        vertical-align: top;\n",
       "    }\n",
       "\n",
       "    .dataframe thead th {\n",
       "        text-align: right;\n",
       "    }\n",
       "</style>\n",
       "<table border=\"1\" class=\"dataframe\">\n",
       "  <thead>\n",
       "    <tr style=\"text-align: right;\">\n",
       "      <th></th>\n",
       "      <th>Algorithm</th>\n",
       "      <th>Accuracy</th>\n",
       "      <th>Precision</th>\n",
       "      <th>Recall</th>\n",
       "      <th>F1_score</th>\n",
       "    </tr>\n",
       "  </thead>\n",
       "  <tbody>\n",
       "  </tbody>\n",
       "</table>\n",
       "</div>"
      ],
      "text/plain": [
       "Empty DataFrame\n",
       "Columns: [Algorithm, Accuracy, Precision, Recall, F1_score]\n",
       "Index: []"
      ]
     },
     "execution_count": 14,
     "metadata": {},
     "output_type": "execute_result"
    }
   ],
   "source": [
    "train_scores"
   ]
  },
  {
   "cell_type": "markdown",
   "id": "76696ec0",
   "metadata": {
    "hidden": true
   },
   "source": [
    "Nesse ensaio serão avaliados as seguintes métricas para os conjuntos de treino, validação e teste:"
   ]
  },
  {
   "cell_type": "markdown",
   "id": "aed8785e",
   "metadata": {
    "hidden": true
   },
   "source": [
    "* Matriz de confusão:\n",
    "\n",
    "|                 |                        | Previsão do Rótulo         |                            |\n",
    "| -----------     | :----------------------| :------------------------- | :--------------------      |\n",
    "|                 |                        | <u>Classe Positiva (P)</u> | <u>Classe Negativa (N)</u> |\n",
    "| **Rotúlo Real** | <u>Classe Positiva</u> | *True Positive (TP)*       | *False Negative (FN)*      |\n",
    "|                 | <u>Classe Negativa</u> | *False Positive (FP)*      | *True Negative (TN)*       |"
   ]
  },
  {
   "cell_type": "markdown",
   "id": "8e638cf0",
   "metadata": {
    "hidden": true
   },
   "source": [
    "* $\\text{Accuracy} = \\frac{\\#TP + \\#TN}{\\#TP + \\#FP + \\#TN + \\#FN}$\n",
    "\n",
    "\n",
    "* $\\text{Precision} = \\frac{\\#TP}{\\#TP + \\#FP}$\n",
    "\n",
    "\n",
    "* $\\text{Recall} = \\frac{\\#TP}{\\#TP + \\#FN}$\n",
    "\n",
    "\n",
    "* $\\text{F1-score} = 2\\;\\frac{\\text{Precision} \\times \\text{Recall}}{\\text{Precision} + \\text{Recall}}$"
   ]
  },
  {
   "cell_type": "markdown",
   "id": "ce7076ad",
   "metadata": {
    "heading_collapsed": true,
    "hidden": true
   },
   "source": [
    "## 1.1 KNN"
   ]
  },
  {
   "cell_type": "markdown",
   "id": "4d925f37",
   "metadata": {
    "hidden": true
   },
   "source": [
    "No algoritmo K-Nearest Neighbors implementado pela classe `KNeighborsClassifier`, queremos determinar a classe de novas observações a partir da proximidade com os pontos usados no processo de treinamento; esse processo é feito calculando a distância entre os exemplos já conhecidos pelo algoritmo (conjunto de treinamento) e os novos exemplos, e a classe é designada à essa nova observação a partir de uma votação (moda estatística), em que a classe que compor a maioria dos vizinhos é atribuída ao novo ponto."
   ]
  },
  {
   "cell_type": "markdown",
   "id": "9e68109a",
   "metadata": {
    "hidden": true
   },
   "source": [
    "Parâmetros para se optimizar:\n",
    "\n",
    "- `n_neighbors`: Número de vizinhos mais próximos usados para classificação de um novo ponto;"
   ]
  },
  {
   "cell_type": "markdown",
   "id": "c333d797",
   "metadata": {
    "heading_collapsed": true,
    "hidden": true
   },
   "source": [
    "### 1.1.1 Fine-Tuning"
   ]
  },
  {
   "cell_type": "code",
   "execution_count": 15,
   "id": "01568bd4",
   "metadata": {
    "ExecuteTime": {
     "end_time": "2023-10-30T19:33:19.128863Z",
     "start_time": "2023-10-30T19:32:44.454469Z"
    },
    "hidden": true
   },
   "outputs": [
    {
     "data": {
      "text/html": [
       "<div>\n",
       "<style scoped>\n",
       "    .dataframe tbody tr th:only-of-type {\n",
       "        vertical-align: middle;\n",
       "    }\n",
       "\n",
       "    .dataframe tbody tr th {\n",
       "        vertical-align: top;\n",
       "    }\n",
       "\n",
       "    .dataframe thead th {\n",
       "        text-align: right;\n",
       "    }\n",
       "</style>\n",
       "<table border=\"1\" class=\"dataframe\">\n",
       "  <thead>\n",
       "    <tr style=\"text-align: right;\">\n",
       "      <th></th>\n",
       "      <th>name</th>\n",
       "      <th>n_neighbors</th>\n",
       "      <th>accuracy</th>\n",
       "      <th>precision</th>\n",
       "      <th>recall</th>\n",
       "      <th>f1score</th>\n",
       "    </tr>\n",
       "  </thead>\n",
       "  <tbody>\n",
       "    <tr>\n",
       "      <th>0</th>\n",
       "      <td>KNeighborsClassifier</td>\n",
       "      <td>1</td>\n",
       "      <td>0.913961</td>\n",
       "      <td>0.917860</td>\n",
       "      <td>0.880244</td>\n",
       "      <td>0.898658</td>\n",
       "    </tr>\n",
       "    <tr>\n",
       "      <th>1</th>\n",
       "      <td>KNeighborsClassifier</td>\n",
       "      <td>3</td>\n",
       "      <td>0.923517</td>\n",
       "      <td>0.942547</td>\n",
       "      <td>0.876977</td>\n",
       "      <td>0.908580</td>\n",
       "    </tr>\n",
       "    <tr>\n",
       "      <th>2</th>\n",
       "      <td>KNeighborsClassifier</td>\n",
       "      <td>5</td>\n",
       "      <td>0.925223</td>\n",
       "      <td>0.948708</td>\n",
       "      <td>0.874749</td>\n",
       "      <td>0.910229</td>\n",
       "    </tr>\n",
       "    <tr>\n",
       "      <th>3</th>\n",
       "      <td>KNeighborsClassifier</td>\n",
       "      <td>7</td>\n",
       "      <td>0.925416</td>\n",
       "      <td>0.951567</td>\n",
       "      <td>0.872299</td>\n",
       "      <td>0.910211</td>\n",
       "    </tr>\n",
       "    <tr>\n",
       "      <th>4</th>\n",
       "      <td>KNeighborsClassifier</td>\n",
       "      <td>9</td>\n",
       "      <td>0.926027</td>\n",
       "      <td>0.954434</td>\n",
       "      <td>0.870889</td>\n",
       "      <td>0.910750</td>\n",
       "    </tr>\n",
       "    <tr>\n",
       "      <th>5</th>\n",
       "      <td>KNeighborsClassifier</td>\n",
       "      <td>11</td>\n",
       "      <td>0.926092</td>\n",
       "      <td>0.955702</td>\n",
       "      <td>0.869775</td>\n",
       "      <td>0.910716</td>\n",
       "    </tr>\n",
       "    <tr>\n",
       "      <th>6</th>\n",
       "      <td>KNeighborsClassifier</td>\n",
       "      <td>13</td>\n",
       "      <td>0.926478</td>\n",
       "      <td>0.956713</td>\n",
       "      <td>0.869701</td>\n",
       "      <td>0.911134</td>\n",
       "    </tr>\n",
       "    <tr>\n",
       "      <th>7</th>\n",
       "      <td>KNeighborsClassifier</td>\n",
       "      <td>15</td>\n",
       "      <td>0.926510</td>\n",
       "      <td>0.957389</td>\n",
       "      <td>0.869107</td>\n",
       "      <td>0.911115</td>\n",
       "    </tr>\n",
       "    <tr>\n",
       "      <th>8</th>\n",
       "      <td>KNeighborsClassifier</td>\n",
       "      <td>17</td>\n",
       "      <td>0.925705</td>\n",
       "      <td>0.957077</td>\n",
       "      <td>0.867473</td>\n",
       "      <td>0.910075</td>\n",
       "    </tr>\n",
       "    <tr>\n",
       "      <th>9</th>\n",
       "      <td>KNeighborsClassifier</td>\n",
       "      <td>19</td>\n",
       "      <td>0.925963</td>\n",
       "      <td>0.957405</td>\n",
       "      <td>0.867770</td>\n",
       "      <td>0.910387</td>\n",
       "    </tr>\n",
       "    <tr>\n",
       "      <th>10</th>\n",
       "      <td>KNeighborsClassifier</td>\n",
       "      <td>21</td>\n",
       "      <td>0.925126</td>\n",
       "      <td>0.957164</td>\n",
       "      <td>0.865989</td>\n",
       "      <td>0.909296</td>\n",
       "    </tr>\n",
       "    <tr>\n",
       "      <th>11</th>\n",
       "      <td>KNeighborsClassifier</td>\n",
       "      <td>23</td>\n",
       "      <td>0.925223</td>\n",
       "      <td>0.957550</td>\n",
       "      <td>0.865840</td>\n",
       "      <td>0.909389</td>\n",
       "    </tr>\n",
       "    <tr>\n",
       "      <th>12</th>\n",
       "      <td>KNeighborsClassifier</td>\n",
       "      <td>25</td>\n",
       "      <td>0.924032</td>\n",
       "      <td>0.956819</td>\n",
       "      <td>0.863687</td>\n",
       "      <td>0.907871</td>\n",
       "    </tr>\n",
       "    <tr>\n",
       "      <th>13</th>\n",
       "      <td>KNeighborsClassifier</td>\n",
       "      <td>27</td>\n",
       "      <td>0.923357</td>\n",
       "      <td>0.956368</td>\n",
       "      <td>0.862499</td>\n",
       "      <td>0.907011</td>\n",
       "    </tr>\n",
       "    <tr>\n",
       "      <th>14</th>\n",
       "      <td>KNeighborsClassifier</td>\n",
       "      <td>29</td>\n",
       "      <td>0.922327</td>\n",
       "      <td>0.955876</td>\n",
       "      <td>0.860494</td>\n",
       "      <td>0.905681</td>\n",
       "    </tr>\n",
       "  </tbody>\n",
       "</table>\n",
       "</div>"
      ],
      "text/plain": [
       "                    name n_neighbors  accuracy  precision    recall   f1score\n",
       "0   KNeighborsClassifier           1  0.913961   0.917860  0.880244  0.898658\n",
       "1   KNeighborsClassifier           3  0.923517   0.942547  0.876977  0.908580\n",
       "2   KNeighborsClassifier           5  0.925223   0.948708  0.874749  0.910229\n",
       "3   KNeighborsClassifier           7  0.925416   0.951567  0.872299  0.910211\n",
       "4   KNeighborsClassifier           9  0.926027   0.954434  0.870889  0.910750\n",
       "5   KNeighborsClassifier          11  0.926092   0.955702  0.869775  0.910716\n",
       "6   KNeighborsClassifier          13  0.926478   0.956713  0.869701  0.911134\n",
       "7   KNeighborsClassifier          15  0.926510   0.957389  0.869107  0.911115\n",
       "8   KNeighborsClassifier          17  0.925705   0.957077  0.867473  0.910075\n",
       "9   KNeighborsClassifier          19  0.925963   0.957405  0.867770  0.910387\n",
       "10  KNeighborsClassifier          21  0.925126   0.957164  0.865989  0.909296\n",
       "11  KNeighborsClassifier          23  0.925223   0.957550  0.865840  0.909389\n",
       "12  KNeighborsClassifier          25  0.924032   0.956819  0.863687  0.907871\n",
       "13  KNeighborsClassifier          27  0.923357   0.956368  0.862499  0.907011\n",
       "14  KNeighborsClassifier          29  0.922327   0.955876  0.860494  0.905681"
      ]
     },
     "execution_count": 15,
     "metadata": {},
     "output_type": "execute_result"
    }
   ],
   "source": [
    "knn_scores = ml_training(\n",
    "                            KNeighborsClassifier,\n",
    "                            'classification',\n",
    "                            X_train, y_train, X_val, y_val,\n",
    "                            n_neighbors=np.arange(1, 31, 2)\n",
    "            )\n",
    "\n",
    "knn_scores"
   ]
  },
  {
   "cell_type": "code",
   "execution_count": 30,
   "id": "07092e21",
   "metadata": {
    "ExecuteTime": {
     "end_time": "2023-10-30T19:41:02.629706Z",
     "start_time": "2023-10-30T19:41:02.614683Z"
    },
    "hidden": true
   },
   "outputs": [],
   "source": [
    "# knn_scores.to_csv('output/classification/knn.csv', index=False)\n",
    "knn_scores = pd.read_csv('output/classification/knn.csv')"
   ]
  },
  {
   "cell_type": "code",
   "execution_count": 16,
   "id": "fb6d3f59",
   "metadata": {
    "ExecuteTime": {
     "end_time": "2023-10-30T19:34:22.233456Z",
     "start_time": "2023-10-30T19:34:22.030074Z"
    },
    "hidden": true
   },
   "outputs": [
    {
     "data": {
      "image/png": "[encoded data removed]",
      "text/plain": [
       "<Figure size 1000x600 with 1 Axes>"
      ]
     },
     "metadata": {},
     "output_type": "display_data"
    }
   ],
   "source": [
    "knn_scores.plot(x='n_neighbors', ylabel='metrics', style='o-', figsize=(10, 6));"
   ]
  },
  {
   "cell_type": "code",
   "execution_count": 17,
   "id": "c5860ed1",
   "metadata": {
    "ExecuteTime": {
     "end_time": "2023-10-30T19:34:35.238068Z",
     "start_time": "2023-10-30T19:34:35.059015Z"
    },
    "hidden": true
   },
   "outputs": [
    {
     "data": {
      "image/png": "[encoded data removed]",
      "text/plain": [
       "<Figure size 1000x600 with 1 Axes>"
      ]
     },
     "metadata": {},
     "output_type": "display_data"
    }
   ],
   "source": [
    "knn_scores.plot(x='n_neighbors', y='accuracy', ylabel='Accuracy Score', title='Accuracy vs n_neighbors' ,style='o-', figsize=(10, 6));"
   ]
  },
  {
   "cell_type": "code",
   "execution_count": 18,
   "id": "df888571",
   "metadata": {
    "ExecuteTime": {
     "end_time": "2023-10-30T19:34:56.184424Z",
     "start_time": "2023-10-30T19:34:56.176707Z"
    },
    "hidden": true
   },
   "outputs": [
    {
     "data": {
      "text/plain": [
       "name           KNeighborsClassifier\n",
       "n_neighbors                      15\n",
       "accuracy                    0.92651\n",
       "precision                  0.957389\n",
       "recall                     0.869107\n",
       "f1score                    0.911115\n",
       "Name: 7, dtype: object"
      ]
     },
     "execution_count": 18,
     "metadata": {},
     "output_type": "execute_result"
    }
   ],
   "source": [
    "knn_max_accuracy = knn_scores.loc[knn_scores['accuracy'].idxmax()]\n",
    "knn_max_accuracy"
   ]
  },
  {
   "cell_type": "markdown",
   "id": "45818c57",
   "metadata": {
    "heading_collapsed": true,
    "hidden": true
   },
   "source": [
    "### 1.1.2 Performance"
   ]
  },
  {
   "cell_type": "code",
   "execution_count": 19,
   "id": "b8679158",
   "metadata": {
    "ExecuteTime": {
     "end_time": "2023-10-30T19:35:17.321833Z",
     "start_time": "2023-10-30T19:35:17.307057Z"
    },
    "hidden": true
   },
   "outputs": [
    {
     "data": {
      "text/html": [
       "<style>#sk-container-id-1 {color: black;background-color: white;}#sk-container-id-1 pre{padding: 0;}#sk-container-id-1 div.sk-toggleable {background-color: white;}#sk-container-id-1 label.sk-toggleable__label {cursor: pointer;display: block;width: 100%;margin-bottom: 0;padding: 0.3em;box-sizing: border-box;text-align: center;}#sk-container-id-1 label.sk-toggleable__label-arrow:before {content: \"▸\";float: left;margin-right: 0.25em;color: #696969;}#sk-container-id-1 label.sk-toggleable__label-arrow:hover:before {color: black;}#sk-container-id-1 div.sk-estimator:hover label.sk-toggleable__label-arrow:before {color: black;}#sk-container-id-1 div.sk-toggleable__content {max-height: 0;max-width: 0;overflow: hidden;text-align: left;background-color: #f0f8ff;}#sk-container-id-1 div.sk-toggleable__content pre {margin: 0.2em;color: black;border-radius: 0.25em;background-color: #f0f8ff;}#sk-container-id-1 input.sk-toggleable__control:checked~div.sk-toggleable__content {max-height: 200px;max-width: 100%;overflow: auto;}#sk-container-id-1 input.sk-toggleable__control:checked~label.sk-toggleable__label-arrow:before {content: \"▾\";}#sk-container-id-1 div.sk-estimator input.sk-toggleable__control:checked~label.sk-toggleable__label {background-color: #d4ebff;}#sk-container-id-1 div.sk-label input.sk-toggleable__control:checked~label.sk-toggleable__label {background-color: #d4ebff;}#sk-container-id-1 input.sk-hidden--visually {border: 0;clip: rect(1px 1px 1px 1px);clip: rect(1px, 1px, 1px, 1px);height: 1px;margin: -1px;overflow: hidden;padding: 0;position: absolute;width: 1px;}#sk-container-id-1 div.sk-estimator {font-family: monospace;background-color: #f0f8ff;border: 1px dotted black;border-radius: 0.25em;box-sizing: border-box;margin-bottom: 0.5em;}#sk-container-id-1 div.sk-estimator:hover {background-color: #d4ebff;}#sk-container-id-1 div.sk-parallel-item::after {content: \"\";width: 100%;border-bottom: 1px solid gray;flex-grow: 1;}#sk-container-id-1 div.sk-label:hover label.sk-toggleable__label {background-color: #d4ebff;}#sk-container-id-1 div.sk-serial::before {content: \"\";position: absolute;border-left: 1px solid gray;box-sizing: border-box;top: 0;bottom: 0;left: 50%;z-index: 0;}#sk-container-id-1 div.sk-serial {display: flex;flex-direction: column;align-items: center;background-color: white;padding-right: 0.2em;padding-left: 0.2em;position: relative;}#sk-container-id-1 div.sk-item {position: relative;z-index: 1;}#sk-container-id-1 div.sk-parallel {display: flex;align-items: stretch;justify-content: center;background-color: white;position: relative;}#sk-container-id-1 div.sk-item::before, #sk-container-id-1 div.sk-parallel-item::before {content: \"\";position: absolute;border-left: 1px solid gray;box-sizing: border-box;top: 0;bottom: 0;left: 50%;z-index: -1;}#sk-container-id-1 div.sk-parallel-item {display: flex;flex-direction: column;z-index: 1;position: relative;background-color: white;}#sk-container-id-1 div.sk-parallel-item:first-child::after {align-self: flex-end;width: 50%;}#sk-container-id-1 div.sk-parallel-item:last-child::after {align-self: flex-start;width: 50%;}#sk-container-id-1 div.sk-parallel-item:only-child::after {width: 0;}#sk-container-id-1 div.sk-dashed-wrapped {border: 1px dashed gray;margin: 0 0.4em 0.5em 0.4em;box-sizing: border-box;padding-bottom: 0.4em;background-color: white;}#sk-container-id-1 div.sk-label label {font-family: monospace;font-weight: bold;display: inline-block;line-height: 1.2em;}#sk-container-id-1 div.sk-label-container {text-align: center;}#sk-container-id-1 div.sk-container {/* jupyter's `normalize.less` sets `[hidden] { display: none; }` but bootstrap.min.css set `[hidden] { display: none !important; }` so we also need the `!important` here to be able to override the default hidden behavior on the sphinx rendered scikit-learn.org. See: https://github.com/scikit-learn/scikit-learn/issues/21755 */display: inline-block !important;position: relative;}#sk-container-id-1 div.sk-text-repr-fallback {display: none;}</style><div id=\"sk-container-id-1\" class=\"sk-top-container\"><div class=\"sk-text-repr-fallback\"><pre>KNeighborsClassifier(n_neighbors=15)</pre><b>In a Jupyter environment, please rerun this cell to show the HTML representation or trust the notebook. <br />On GitHub, the HTML representation is unable to render, please try loading this page with nbviewer.org.</b></div><div class=\"sk-container\" hidden><div class=\"sk-item\"><div class=\"sk-estimator sk-toggleable\"><input class=\"sk-toggleable__control sk-hidden--visually\" id=\"sk-estimator-id-1\" type=\"checkbox\" checked><label for=\"sk-estimator-id-1\" class=\"sk-toggleable__label sk-toggleable__label-arrow\">KNeighborsClassifier</label><div class=\"sk-toggleable__content\"><pre>KNeighborsClassifier(n_neighbors=15)</pre></div></div></div></div></div>"
      ],
      "text/plain": [
       "KNeighborsClassifier(n_neighbors=15)"
      ]
     },
     "execution_count": 19,
     "metadata": {},
     "output_type": "execute_result"
    }
   ],
   "source": [
    "# model definition\n",
    "knn = KNeighborsClassifier(n_neighbors=knn_max_accuracy['n_neighbors'])\n",
    "\n",
    "# model fit\n",
    "knn.fit(X_train, y_train)"
   ]
  },
  {
   "cell_type": "markdown",
   "id": "04422d86",
   "metadata": {
    "hidden": true
   },
   "source": [
    "**Training Set**"
   ]
  },
  {
   "cell_type": "code",
   "execution_count": 23,
   "id": "d9175c06",
   "metadata": {
    "ExecuteTime": {
     "end_time": "2023-10-30T19:37:01.905647Z",
     "start_time": "2023-10-30T19:36:57.077550Z"
    },
    "hidden": true
   },
   "outputs": [
    {
     "data": {
      "text/html": [
       "<div>\n",
       "<style scoped>\n",
       "    .dataframe tbody tr th:only-of-type {\n",
       "        vertical-align: middle;\n",
       "    }\n",
       "\n",
       "    .dataframe tbody tr th {\n",
       "        vertical-align: top;\n",
       "    }\n",
       "\n",
       "    .dataframe thead th {\n",
       "        text-align: right;\n",
       "    }\n",
       "</style>\n",
       "<table border=\"1\" class=\"dataframe\">\n",
       "  <thead>\n",
       "    <tr style=\"text-align: right;\">\n",
       "      <th></th>\n",
       "      <th>Algorithm</th>\n",
       "      <th>Accuracy</th>\n",
       "      <th>Precision</th>\n",
       "      <th>Recall</th>\n",
       "      <th>F1_score</th>\n",
       "    </tr>\n",
       "  </thead>\n",
       "  <tbody>\n",
       "    <tr>\n",
       "      <th>0</th>\n",
       "      <td>KNN</td>\n",
       "      <td>0.934055</td>\n",
       "      <td>0.964572</td>\n",
       "      <td>0.880171</td>\n",
       "      <td>0.920441</td>\n",
       "    </tr>\n",
       "  </tbody>\n",
       "</table>\n",
       "</div>"
      ],
      "text/plain": [
       "  Algorithm  Accuracy  Precision    Recall  F1_score\n",
       "0       KNN  0.934055   0.964572  0.880171  0.920441"
      ]
     },
     "execution_count": 23,
     "metadata": {},
     "output_type": "execute_result"
    }
   ],
   "source": [
    "train_scores = register_performance(knn, 'KNN', X_train, y_train, train_scores)\n",
    "train_scores"
   ]
  },
  {
   "cell_type": "code",
   "execution_count": 25,
   "id": "00892dfe",
   "metadata": {
    "ExecuteTime": {
     "end_time": "2023-10-30T19:37:49.609369Z",
     "start_time": "2023-10-30T19:37:44.941520Z"
    },
    "hidden": true
   },
   "outputs": [
    {
     "data": {
      "text/plain": [
       "array([[40071,  1016],\n",
       "       [ 3766, 27662]])"
      ]
     },
     "execution_count": 25,
     "metadata": {},
     "output_type": "execute_result"
    }
   ],
   "source": [
    "confusion_matrix(y_train, knn.predict(X_train))"
   ]
  },
  {
   "cell_type": "markdown",
   "id": "75187254",
   "metadata": {
    "hidden": true
   },
   "source": [
    "**Validation**"
   ]
  },
  {
   "cell_type": "code",
   "execution_count": 26,
   "id": "4b4a1793",
   "metadata": {
    "ExecuteTime": {
     "end_time": "2023-10-30T19:38:12.532897Z",
     "start_time": "2023-10-30T19:38:10.476005Z"
    },
    "hidden": true
   },
   "outputs": [
    {
     "data": {
      "text/html": [
       "<div>\n",
       "<style scoped>\n",
       "    .dataframe tbody tr th:only-of-type {\n",
       "        vertical-align: middle;\n",
       "    }\n",
       "\n",
       "    .dataframe tbody tr th {\n",
       "        vertical-align: top;\n",
       "    }\n",
       "\n",
       "    .dataframe thead th {\n",
       "        text-align: right;\n",
       "    }\n",
       "</style>\n",
       "<table border=\"1\" class=\"dataframe\">\n",
       "  <thead>\n",
       "    <tr style=\"text-align: right;\">\n",
       "      <th></th>\n",
       "      <th>Algorithm</th>\n",
       "      <th>Accuracy</th>\n",
       "      <th>Precision</th>\n",
       "      <th>Recall</th>\n",
       "      <th>F1_score</th>\n",
       "    </tr>\n",
       "  </thead>\n",
       "  <tbody>\n",
       "    <tr>\n",
       "      <th>0</th>\n",
       "      <td>KNN</td>\n",
       "      <td>0.92651</td>\n",
       "      <td>0.957389</td>\n",
       "      <td>0.869107</td>\n",
       "      <td>0.911115</td>\n",
       "    </tr>\n",
       "  </tbody>\n",
       "</table>\n",
       "</div>"
      ],
      "text/plain": [
       "  Algorithm  Accuracy  Precision    Recall  F1_score\n",
       "0       KNN   0.92651   0.957389  0.869107  0.911115"
      ]
     },
     "execution_count": 26,
     "metadata": {},
     "output_type": "execute_result"
    }
   ],
   "source": [
    "val_scores = register_performance(knn, 'KNN', X_val, y_val, val_scores)\n",
    "val_scores"
   ]
  },
  {
   "cell_type": "code",
   "execution_count": 27,
   "id": "356f996b",
   "metadata": {
    "ExecuteTime": {
     "end_time": "2023-10-30T19:38:37.591013Z",
     "start_time": "2023-10-30T19:38:35.471548Z"
    },
    "hidden": true
   },
   "outputs": [
    {
     "data": {
      "text/plain": [
       "array([[17089,   521],\n",
       "       [ 1763, 11706]])"
      ]
     },
     "execution_count": 27,
     "metadata": {},
     "output_type": "execute_result"
    }
   ],
   "source": [
    "confusion_matrix(y_val, knn.predict(X_val))"
   ]
  },
  {
   "cell_type": "markdown",
   "id": "87bb1cb5",
   "metadata": {
    "hidden": true
   },
   "source": [
    "**Test**"
   ]
  },
  {
   "cell_type": "code",
   "execution_count": 28,
   "id": "a07e5c56",
   "metadata": {
    "ExecuteTime": {
     "end_time": "2023-10-30T19:38:58.188923Z",
     "start_time": "2023-10-30T19:38:56.442839Z"
    },
    "hidden": true
   },
   "outputs": [
    {
     "data": {
      "text/html": [
       "<div>\n",
       "<style scoped>\n",
       "    .dataframe tbody tr th:only-of-type {\n",
       "        vertical-align: middle;\n",
       "    }\n",
       "\n",
       "    .dataframe tbody tr th {\n",
       "        vertical-align: top;\n",
       "    }\n",
       "\n",
       "    .dataframe thead th {\n",
       "        text-align: right;\n",
       "    }\n",
       "</style>\n",
       "<table border=\"1\" class=\"dataframe\">\n",
       "  <thead>\n",
       "    <tr style=\"text-align: right;\">\n",
       "      <th></th>\n",
       "      <th>Algorithm</th>\n",
       "      <th>Accuracy</th>\n",
       "      <th>Precision</th>\n",
       "      <th>Recall</th>\n",
       "      <th>F1_score</th>\n",
       "    </tr>\n",
       "  </thead>\n",
       "  <tbody>\n",
       "    <tr>\n",
       "      <th>0</th>\n",
       "      <td>KNN</td>\n",
       "      <td>0.924999</td>\n",
       "      <td>0.955173</td>\n",
       "      <td>0.869952</td>\n",
       "      <td>0.910573</td>\n",
       "    </tr>\n",
       "  </tbody>\n",
       "</table>\n",
       "</div>"
      ],
      "text/plain": [
       "  Algorithm  Accuracy  Precision    Recall  F1_score\n",
       "0       KNN  0.924999   0.955173  0.869952  0.910573"
      ]
     },
     "execution_count": 28,
     "metadata": {},
     "output_type": "execute_result"
    }
   ],
   "source": [
    "test_scores = register_performance(knn, 'KNN', X_test, y_test, test_scores)\n",
    "test_scores"
   ]
  },
  {
   "cell_type": "code",
   "execution_count": 29,
   "id": "8509230a",
   "metadata": {
    "ExecuteTime": {
     "end_time": "2023-10-30T19:39:32.352053Z",
     "start_time": "2023-10-30T19:39:30.643025Z"
    },
    "hidden": true
   },
   "outputs": [
    {
     "data": {
      "text/plain": [
       "array([[14064,   464],\n",
       "       [ 1478,  9887]])"
      ]
     },
     "execution_count": 29,
     "metadata": {},
     "output_type": "execute_result"
    }
   ],
   "source": [
    "confusion_matrix(y_test, knn.predict(X_test))"
   ]
  },
  {
   "cell_type": "markdown",
   "id": "c6c3278f",
   "metadata": {
    "heading_collapsed": true,
    "hidden": true
   },
   "source": [
    "## 1.2 Decision Tree"
   ]
  },
  {
   "cell_type": "markdown",
   "id": "294abc16",
   "metadata": {
    "hidden": true
   },
   "source": [
    "O algoritmo Decision Tree (árvore de decisão) implementado através da classe `DecisionTreeClassifier`, tem como objetivo segmentar o conjunto de treinamento em subconjuntos que máximizam a separação entre as classes, isso é feito buscando um par feature-valor, conhecido como \"split decision\", no dataset que minimiza uma medida de impureza, ou seja, que máximiza a homogêneidade dos subconjuntos resultantes. Esse processo de busca pela split decision é feito novamentos nos 2 conjuntos resultantes e é repetido até alcançar uma homogeneidade máxima ou que um dos critérios de parada seja atendido."
   ]
  },
  {
   "cell_type": "markdown",
   "id": "2c251bc0",
   "metadata": {
    "hidden": true
   },
   "source": [
    "Parâmetros para se optimizar:\n",
    "\n",
    "- `max_depth`: profundidade máxima da árvore, equivale ao número de split realizados pois cada split equivale a um nível da árvore."
   ]
  },
  {
   "cell_type": "markdown",
   "id": "069ffe3d",
   "metadata": {
    "heading_collapsed": true,
    "hidden": true
   },
   "source": [
    "### 1.2.1 Fine-Tuning"
   ]
  },
  {
   "cell_type": "code",
   "execution_count": 31,
   "id": "2775abe8",
   "metadata": {
    "ExecuteTime": {
     "end_time": "2023-10-30T19:42:36.755824Z",
     "start_time": "2023-10-30T19:42:29.959068Z"
    },
    "hidden": true
   },
   "outputs": [
    {
     "data": {
      "text/html": [
       "<div>\n",
       "<style scoped>\n",
       "    .dataframe tbody tr th:only-of-type {\n",
       "        vertical-align: middle;\n",
       "    }\n",
       "\n",
       "    .dataframe tbody tr th {\n",
       "        vertical-align: top;\n",
       "    }\n",
       "\n",
       "    .dataframe thead th {\n",
       "        text-align: right;\n",
       "    }\n",
       "</style>\n",
       "<table border=\"1\" class=\"dataframe\">\n",
       "  <thead>\n",
       "    <tr style=\"text-align: right;\">\n",
       "      <th></th>\n",
       "      <th>name</th>\n",
       "      <th>max_depth</th>\n",
       "      <th>accuracy</th>\n",
       "      <th>precision</th>\n",
       "      <th>recall</th>\n",
       "      <th>f1score</th>\n",
       "    </tr>\n",
       "  </thead>\n",
       "  <tbody>\n",
       "    <tr>\n",
       "      <th>0</th>\n",
       "      <td>DecisionTreeClassifier</td>\n",
       "      <td>1</td>\n",
       "      <td>0.786383</td>\n",
       "      <td>0.722013</td>\n",
       "      <td>0.824560</td>\n",
       "      <td>0.769887</td>\n",
       "    </tr>\n",
       "    <tr>\n",
       "      <th>1</th>\n",
       "      <td>DecisionTreeClassifier</td>\n",
       "      <td>2</td>\n",
       "      <td>0.856495</td>\n",
       "      <td>0.830024</td>\n",
       "      <td>0.841117</td>\n",
       "      <td>0.835534</td>\n",
       "    </tr>\n",
       "    <tr>\n",
       "      <th>2</th>\n",
       "      <td>DecisionTreeClassifier</td>\n",
       "      <td>3</td>\n",
       "      <td>0.885453</td>\n",
       "      <td>0.840398</td>\n",
       "      <td>0.908159</td>\n",
       "      <td>0.872966</td>\n",
       "    </tr>\n",
       "    <tr>\n",
       "      <th>3</th>\n",
       "      <td>DecisionTreeClassifier</td>\n",
       "      <td>4</td>\n",
       "      <td>0.893465</td>\n",
       "      <td>0.924169</td>\n",
       "      <td>0.821590</td>\n",
       "      <td>0.869866</td>\n",
       "    </tr>\n",
       "    <tr>\n",
       "      <th>4</th>\n",
       "      <td>DecisionTreeClassifier</td>\n",
       "      <td>5</td>\n",
       "      <td>0.906689</td>\n",
       "      <td>0.906531</td>\n",
       "      <td>0.874898</td>\n",
       "      <td>0.890434</td>\n",
       "    </tr>\n",
       "    <tr>\n",
       "      <th>5</th>\n",
       "      <td>DecisionTreeClassifier</td>\n",
       "      <td>6</td>\n",
       "      <td>0.921748</td>\n",
       "      <td>0.892748</td>\n",
       "      <td>0.931324</td>\n",
       "      <td>0.911628</td>\n",
       "    </tr>\n",
       "    <tr>\n",
       "      <th>6</th>\n",
       "      <td>DecisionTreeClassifier</td>\n",
       "      <td>7</td>\n",
       "      <td>0.931529</td>\n",
       "      <td>0.944083</td>\n",
       "      <td>0.895018</td>\n",
       "      <td>0.918896</td>\n",
       "    </tr>\n",
       "    <tr>\n",
       "      <th>7</th>\n",
       "      <td>DecisionTreeClassifier</td>\n",
       "      <td>8</td>\n",
       "      <td>0.936259</td>\n",
       "      <td>0.934954</td>\n",
       "      <td>0.916698</td>\n",
       "      <td>0.925736</td>\n",
       "    </tr>\n",
       "    <tr>\n",
       "      <th>8</th>\n",
       "      <td>DecisionTreeClassifier</td>\n",
       "      <td>9</td>\n",
       "      <td>0.940056</td>\n",
       "      <td>0.952440</td>\n",
       "      <td>0.906972</td>\n",
       "      <td>0.929150</td>\n",
       "    </tr>\n",
       "    <tr>\n",
       "      <th>9</th>\n",
       "      <td>DecisionTreeClassifier</td>\n",
       "      <td>10</td>\n",
       "      <td>0.943209</td>\n",
       "      <td>0.950292</td>\n",
       "      <td>0.916920</td>\n",
       "      <td>0.933308</td>\n",
       "    </tr>\n",
       "    <tr>\n",
       "      <th>10</th>\n",
       "      <td>DecisionTreeClassifier</td>\n",
       "      <td>11</td>\n",
       "      <td>0.946684</td>\n",
       "      <td>0.949057</td>\n",
       "      <td>0.926721</td>\n",
       "      <td>0.937756</td>\n",
       "    </tr>\n",
       "    <tr>\n",
       "      <th>11</th>\n",
       "      <td>DecisionTreeClassifier</td>\n",
       "      <td>12</td>\n",
       "      <td>0.949323</td>\n",
       "      <td>0.956478</td>\n",
       "      <td>0.925161</td>\n",
       "      <td>0.940559</td>\n",
       "    </tr>\n",
       "    <tr>\n",
       "      <th>12</th>\n",
       "      <td>DecisionTreeClassifier</td>\n",
       "      <td>13</td>\n",
       "      <td>0.950513</td>\n",
       "      <td>0.956811</td>\n",
       "      <td>0.927686</td>\n",
       "      <td>0.942024</td>\n",
       "    </tr>\n",
       "    <tr>\n",
       "      <th>13</th>\n",
       "      <td>DecisionTreeClassifier</td>\n",
       "      <td>14</td>\n",
       "      <td>0.950578</td>\n",
       "      <td>0.953968</td>\n",
       "      <td>0.930878</td>\n",
       "      <td>0.942282</td>\n",
       "    </tr>\n",
       "    <tr>\n",
       "      <th>14</th>\n",
       "      <td>DecisionTreeClassifier</td>\n",
       "      <td>15</td>\n",
       "      <td>0.950481</td>\n",
       "      <td>0.957088</td>\n",
       "      <td>0.927315</td>\n",
       "      <td>0.941966</td>\n",
       "    </tr>\n",
       "    <tr>\n",
       "      <th>15</th>\n",
       "      <td>DecisionTreeClassifier</td>\n",
       "      <td>16</td>\n",
       "      <td>0.949870</td>\n",
       "      <td>0.951003</td>\n",
       "      <td>0.932363</td>\n",
       "      <td>0.941591</td>\n",
       "    </tr>\n",
       "    <tr>\n",
       "      <th>16</th>\n",
       "      <td>DecisionTreeClassifier</td>\n",
       "      <td>17</td>\n",
       "      <td>0.948840</td>\n",
       "      <td>0.948095</td>\n",
       "      <td>0.933031</td>\n",
       "      <td>0.940503</td>\n",
       "    </tr>\n",
       "    <tr>\n",
       "      <th>17</th>\n",
       "      <td>DecisionTreeClassifier</td>\n",
       "      <td>18</td>\n",
       "      <td>0.949130</td>\n",
       "      <td>0.946313</td>\n",
       "      <td>0.935704</td>\n",
       "      <td>0.940979</td>\n",
       "    </tr>\n",
       "    <tr>\n",
       "      <th>18</th>\n",
       "      <td>DecisionTreeClassifier</td>\n",
       "      <td>19</td>\n",
       "      <td>0.948937</td>\n",
       "      <td>0.943557</td>\n",
       "      <td>0.938303</td>\n",
       "      <td>0.940922</td>\n",
       "    </tr>\n",
       "    <tr>\n",
       "      <th>19</th>\n",
       "      <td>DecisionTreeClassifier</td>\n",
       "      <td>20</td>\n",
       "      <td>0.947682</td>\n",
       "      <td>0.939509</td>\n",
       "      <td>0.939788</td>\n",
       "      <td>0.939648</td>\n",
       "    </tr>\n",
       "    <tr>\n",
       "      <th>20</th>\n",
       "      <td>DecisionTreeClassifier</td>\n",
       "      <td>21</td>\n",
       "      <td>0.946427</td>\n",
       "      <td>0.937509</td>\n",
       "      <td>0.938971</td>\n",
       "      <td>0.938240</td>\n",
       "    </tr>\n",
       "    <tr>\n",
       "      <th>21</th>\n",
       "      <td>DecisionTreeClassifier</td>\n",
       "      <td>22</td>\n",
       "      <td>0.947135</td>\n",
       "      <td>0.937093</td>\n",
       "      <td>0.941198</td>\n",
       "      <td>0.939141</td>\n",
       "    </tr>\n",
       "    <tr>\n",
       "      <th>22</th>\n",
       "      <td>DecisionTreeClassifier</td>\n",
       "      <td>23</td>\n",
       "      <td>0.944979</td>\n",
       "      <td>0.935164</td>\n",
       "      <td>0.938080</td>\n",
       "      <td>0.936620</td>\n",
       "    </tr>\n",
       "    <tr>\n",
       "      <th>23</th>\n",
       "      <td>DecisionTreeClassifier</td>\n",
       "      <td>24</td>\n",
       "      <td>0.945783</td>\n",
       "      <td>0.935219</td>\n",
       "      <td>0.940010</td>\n",
       "      <td>0.937609</td>\n",
       "    </tr>\n",
       "    <tr>\n",
       "      <th>24</th>\n",
       "      <td>DecisionTreeClassifier</td>\n",
       "      <td>25</td>\n",
       "      <td>0.944882</td>\n",
       "      <td>0.933737</td>\n",
       "      <td>0.939491</td>\n",
       "      <td>0.936605</td>\n",
       "    </tr>\n",
       "    <tr>\n",
       "      <th>25</th>\n",
       "      <td>DecisionTreeClassifier</td>\n",
       "      <td>26</td>\n",
       "      <td>0.945494</td>\n",
       "      <td>0.935112</td>\n",
       "      <td>0.939416</td>\n",
       "      <td>0.937259</td>\n",
       "    </tr>\n",
       "    <tr>\n",
       "      <th>26</th>\n",
       "      <td>DecisionTreeClassifier</td>\n",
       "      <td>27</td>\n",
       "      <td>0.945397</td>\n",
       "      <td>0.934327</td>\n",
       "      <td>0.940085</td>\n",
       "      <td>0.937197</td>\n",
       "    </tr>\n",
       "    <tr>\n",
       "      <th>27</th>\n",
       "      <td>DecisionTreeClassifier</td>\n",
       "      <td>28</td>\n",
       "      <td>0.945429</td>\n",
       "      <td>0.934332</td>\n",
       "      <td>0.940159</td>\n",
       "      <td>0.937236</td>\n",
       "    </tr>\n",
       "    <tr>\n",
       "      <th>28</th>\n",
       "      <td>DecisionTreeClassifier</td>\n",
       "      <td>29</td>\n",
       "      <td>0.944239</td>\n",
       "      <td>0.932233</td>\n",
       "      <td>0.939639</td>\n",
       "      <td>0.935922</td>\n",
       "    </tr>\n",
       "    <tr>\n",
       "      <th>29</th>\n",
       "      <td>DecisionTreeClassifier</td>\n",
       "      <td>30</td>\n",
       "      <td>0.945333</td>\n",
       "      <td>0.934510</td>\n",
       "      <td>0.939713</td>\n",
       "      <td>0.937104</td>\n",
       "    </tr>\n",
       "  </tbody>\n",
       "</table>\n",
       "</div>"
      ],
      "text/plain": [
       "                      name max_depth  accuracy  precision    recall   f1score\n",
       "0   DecisionTreeClassifier         1  0.786383   0.722013  0.824560  0.769887\n",
       "1   DecisionTreeClassifier         2  0.856495   0.830024  0.841117  0.835534\n",
       "2   DecisionTreeClassifier         3  0.885453   0.840398  0.908159  0.872966\n",
       "3   DecisionTreeClassifier         4  0.893465   0.924169  0.821590  0.869866\n",
       "4   DecisionTreeClassifier         5  0.906689   0.906531  0.874898  0.890434\n",
       "5   DecisionTreeClassifier         6  0.921748   0.892748  0.931324  0.911628\n",
       "6   DecisionTreeClassifier         7  0.931529   0.944083  0.895018  0.918896\n",
       "7   DecisionTreeClassifier         8  0.936259   0.934954  0.916698  0.925736\n",
       "8   DecisionTreeClassifier         9  0.940056   0.952440  0.906972  0.929150\n",
       "9   DecisionTreeClassifier        10  0.943209   0.950292  0.916920  0.933308\n",
       "10  DecisionTreeClassifier        11  0.946684   0.949057  0.926721  0.937756\n",
       "11  DecisionTreeClassifier        12  0.949323   0.956478  0.925161  0.940559\n",
       "12  DecisionTreeClassifier        13  0.950513   0.956811  0.927686  0.942024\n",
       "13  DecisionTreeClassifier        14  0.950578   0.953968  0.930878  0.942282\n",
       "14  DecisionTreeClassifier        15  0.950481   0.957088  0.927315  0.941966\n",
       "15  DecisionTreeClassifier        16  0.949870   0.951003  0.932363  0.941591\n",
       "16  DecisionTreeClassifier        17  0.948840   0.948095  0.933031  0.940503\n",
       "17  DecisionTreeClassifier        18  0.949130   0.946313  0.935704  0.940979\n",
       "18  DecisionTreeClassifier        19  0.948937   0.943557  0.938303  0.940922\n",
       "19  DecisionTreeClassifier        20  0.947682   0.939509  0.939788  0.939648\n",
       "20  DecisionTreeClassifier        21  0.946427   0.937509  0.938971  0.938240\n",
       "21  DecisionTreeClassifier        22  0.947135   0.937093  0.941198  0.939141\n",
       "22  DecisionTreeClassifier        23  0.944979   0.935164  0.938080  0.936620\n",
       "23  DecisionTreeClassifier        24  0.945783   0.935219  0.940010  0.937609\n",
       "24  DecisionTreeClassifier        25  0.944882   0.933737  0.939491  0.936605\n",
       "25  DecisionTreeClassifier        26  0.945494   0.935112  0.939416  0.937259\n",
       "26  DecisionTreeClassifier        27  0.945397   0.934327  0.940085  0.937197\n",
       "27  DecisionTreeClassifier        28  0.945429   0.934332  0.940159  0.937236\n",
       "28  DecisionTreeClassifier        29  0.944239   0.932233  0.939639  0.935922\n",
       "29  DecisionTreeClassifier        30  0.945333   0.934510  0.939713  0.937104"
      ]
     },
     "execution_count": 31,
     "metadata": {},
     "output_type": "execute_result"
    }
   ],
   "source": [
    "tree_scores = ml_training(\n",
    "                            DecisionTreeClassifier,\n",
    "                            'classification', X_train, y_train, X_val, y_val,\n",
    "                            max_depth=np.arange(1, 31, 1)\n",
    "                )\n",
    "tree_scores"
   ]
  },
  {
   "cell_type": "code",
   "execution_count": 49,
   "id": "77c53429",
   "metadata": {
    "ExecuteTime": {
     "end_time": "2023-10-30T19:56:37.750954Z",
     "start_time": "2023-10-30T19:56:37.747343Z"
    },
    "hidden": true
   },
   "outputs": [],
   "source": [
    "# tree_scores.to_csv('output/classification/decision_tree.csv', index=False)\n",
    "tree_scores = pd.read_csv('output/classification/decision_tree.csv')"
   ]
  },
  {
   "cell_type": "code",
   "execution_count": 33,
   "id": "6c8a7217",
   "metadata": {
    "ExecuteTime": {
     "end_time": "2023-10-30T19:43:33.944279Z",
     "start_time": "2023-10-30T19:43:33.743144Z"
    },
    "hidden": true
   },
   "outputs": [
    {
     "data": {
      "image/png": "[encoded data removed]",
      "text/plain": [
       "<Figure size 1000x600 with 1 Axes>"
      ]
     },
     "metadata": {},
     "output_type": "display_data"
    }
   ],
   "source": [
    "tree_scores.plot(x='max_depth', ylabel='metrics', style='-o', figsize=(10,6));"
   ]
  },
  {
   "cell_type": "code",
   "execution_count": 34,
   "id": "dc895776",
   "metadata": {
    "ExecuteTime": {
     "end_time": "2023-10-30T19:43:47.510457Z",
     "start_time": "2023-10-30T19:43:47.329040Z"
    },
    "hidden": true
   },
   "outputs": [
    {
     "data": {
      "image/png": "[encoded data removed]",
      "text/plain": [
       "<Figure size 1000x600 with 1 Axes>"
      ]
     },
     "metadata": {},
     "output_type": "display_data"
    }
   ],
   "source": [
    "tree_scores.plot(x='max_depth', y='accuracy', ylabel='Accuracy Score', title='Accuracy Score vs max_depth', style='-o', figsize=(10,6));"
   ]
  },
  {
   "cell_type": "code",
   "execution_count": 35,
   "id": "2a388495",
   "metadata": {
    "ExecuteTime": {
     "end_time": "2023-10-30T19:44:05.625878Z",
     "start_time": "2023-10-30T19:44:05.616404Z"
    },
    "hidden": true
   },
   "outputs": [
    {
     "data": {
      "text/plain": [
       "name         DecisionTreeClassifier\n",
       "max_depth                        14\n",
       "accuracy                   0.950578\n",
       "precision                  0.953968\n",
       "recall                     0.930878\n",
       "f1score                    0.942282\n",
       "Name: 13, dtype: object"
      ]
     },
     "execution_count": 35,
     "metadata": {},
     "output_type": "execute_result"
    }
   ],
   "source": [
    "tree_best_accuracy = tree_scores.loc[tree_scores['accuracy'].idxmax()]\n",
    "tree_best_accuracy"
   ]
  },
  {
   "cell_type": "markdown",
   "id": "64e800c1",
   "metadata": {
    "heading_collapsed": true,
    "hidden": true
   },
   "source": [
    "### 1.2.2 Performance"
   ]
  },
  {
   "cell_type": "code",
   "execution_count": 36,
   "id": "6e58e8b0",
   "metadata": {
    "ExecuteTime": {
     "end_time": "2023-10-30T19:44:25.228627Z",
     "start_time": "2023-10-30T19:44:24.993262Z"
    },
    "hidden": true
   },
   "outputs": [
    {
     "data": {
      "text/html": [
       "<style>#sk-container-id-2 {color: black;background-color: white;}#sk-container-id-2 pre{padding: 0;}#sk-container-id-2 div.sk-toggleable {background-color: white;}#sk-container-id-2 label.sk-toggleable__label {cursor: pointer;display: block;width: 100%;margin-bottom: 0;padding: 0.3em;box-sizing: border-box;text-align: center;}#sk-container-id-2 label.sk-toggleable__label-arrow:before {content: \"▸\";float: left;margin-right: 0.25em;color: #696969;}#sk-container-id-2 label.sk-toggleable__label-arrow:hover:before {color: black;}#sk-container-id-2 div.sk-estimator:hover label.sk-toggleable__label-arrow:before {color: black;}#sk-container-id-2 div.sk-toggleable__content {max-height: 0;max-width: 0;overflow: hidden;text-align: left;background-color: #f0f8ff;}#sk-container-id-2 div.sk-toggleable__content pre {margin: 0.2em;color: black;border-radius: 0.25em;background-color: #f0f8ff;}#sk-container-id-2 input.sk-toggleable__control:checked~div.sk-toggleable__content {max-height: 200px;max-width: 100%;overflow: auto;}#sk-container-id-2 input.sk-toggleable__control:checked~label.sk-toggleable__label-arrow:before {content: \"▾\";}#sk-container-id-2 div.sk-estimator input.sk-toggleable__control:checked~label.sk-toggleable__label {background-color: #d4ebff;}#sk-container-id-2 div.sk-label input.sk-toggleable__control:checked~label.sk-toggleable__label {background-color: #d4ebff;}#sk-container-id-2 input.sk-hidden--visually {border: 0;clip: rect(1px 1px 1px 1px);clip: rect(1px, 1px, 1px, 1px);height: 1px;margin: -1px;overflow: hidden;padding: 0;position: absolute;width: 1px;}#sk-container-id-2 div.sk-estimator {font-family: monospace;background-color: #f0f8ff;border: 1px dotted black;border-radius: 0.25em;box-sizing: border-box;margin-bottom: 0.5em;}#sk-container-id-2 div.sk-estimator:hover {background-color: #d4ebff;}#sk-container-id-2 div.sk-parallel-item::after {content: \"\";width: 100%;border-bottom: 1px solid gray;flex-grow: 1;}#sk-container-id-2 div.sk-label:hover label.sk-toggleable__label {background-color: #d4ebff;}#sk-container-id-2 div.sk-serial::before {content: \"\";position: absolute;border-left: 1px solid gray;box-sizing: border-box;top: 0;bottom: 0;left: 50%;z-index: 0;}#sk-container-id-2 div.sk-serial {display: flex;flex-direction: column;align-items: center;background-color: white;padding-right: 0.2em;padding-left: 0.2em;position: relative;}#sk-container-id-2 div.sk-item {position: relative;z-index: 1;}#sk-container-id-2 div.sk-parallel {display: flex;align-items: stretch;justify-content: center;background-color: white;position: relative;}#sk-container-id-2 div.sk-item::before, #sk-container-id-2 div.sk-parallel-item::before {content: \"\";position: absolute;border-left: 1px solid gray;box-sizing: border-box;top: 0;bottom: 0;left: 50%;z-index: -1;}#sk-container-id-2 div.sk-parallel-item {display: flex;flex-direction: column;z-index: 1;position: relative;background-color: white;}#sk-container-id-2 div.sk-parallel-item:first-child::after {align-self: flex-end;width: 50%;}#sk-container-id-2 div.sk-parallel-item:last-child::after {align-self: flex-start;width: 50%;}#sk-container-id-2 div.sk-parallel-item:only-child::after {width: 0;}#sk-container-id-2 div.sk-dashed-wrapped {border: 1px dashed gray;margin: 0 0.4em 0.5em 0.4em;box-sizing: border-box;padding-bottom: 0.4em;background-color: white;}#sk-container-id-2 div.sk-label label {font-family: monospace;font-weight: bold;display: inline-block;line-height: 1.2em;}#sk-container-id-2 div.sk-label-container {text-align: center;}#sk-container-id-2 div.sk-container {/* jupyter's `normalize.less` sets `[hidden] { display: none; }` but bootstrap.min.css set `[hidden] { display: none !important; }` so we also need the `!important` here to be able to override the default hidden behavior on the sphinx rendered scikit-learn.org. See: https://github.com/scikit-learn/scikit-learn/issues/21755 */display: inline-block !important;position: relative;}#sk-container-id-2 div.sk-text-repr-fallback {display: none;}</style><div id=\"sk-container-id-2\" class=\"sk-top-container\"><div class=\"sk-text-repr-fallback\"><pre>DecisionTreeClassifier(max_depth=14)</pre><b>In a Jupyter environment, please rerun this cell to show the HTML representation or trust the notebook. <br />On GitHub, the HTML representation is unable to render, please try loading this page with nbviewer.org.</b></div><div class=\"sk-container\" hidden><div class=\"sk-item\"><div class=\"sk-estimator sk-toggleable\"><input class=\"sk-toggleable__control sk-hidden--visually\" id=\"sk-estimator-id-2\" type=\"checkbox\" checked><label for=\"sk-estimator-id-2\" class=\"sk-toggleable__label sk-toggleable__label-arrow\">DecisionTreeClassifier</label><div class=\"sk-toggleable__content\"><pre>DecisionTreeClassifier(max_depth=14)</pre></div></div></div></div></div>"
      ],
      "text/plain": [
       "DecisionTreeClassifier(max_depth=14)"
      ]
     },
     "execution_count": 36,
     "metadata": {},
     "output_type": "execute_result"
    }
   ],
   "source": [
    "# model definition\n",
    "tree = DecisionTreeClassifier(max_depth=tree_best_accuracy['max_depth'])\n",
    "\n",
    "# model fit\n",
    "tree.fit(X_train, y_train)"
   ]
  },
  {
   "cell_type": "markdown",
   "id": "98b3b0ce",
   "metadata": {
    "hidden": true
   },
   "source": [
    "**training**"
   ]
  },
  {
   "cell_type": "code",
   "execution_count": 37,
   "id": "ec23701b",
   "metadata": {
    "ExecuteTime": {
     "end_time": "2023-10-30T19:44:48.416092Z",
     "start_time": "2023-10-30T19:44:48.346994Z"
    },
    "hidden": true
   },
   "outputs": [
    {
     "data": {
      "text/html": [
       "<div>\n",
       "<style scoped>\n",
       "    .dataframe tbody tr th:only-of-type {\n",
       "        vertical-align: middle;\n",
       "    }\n",
       "\n",
       "    .dataframe tbody tr th {\n",
       "        vertical-align: top;\n",
       "    }\n",
       "\n",
       "    .dataframe thead th {\n",
       "        text-align: right;\n",
       "    }\n",
       "</style>\n",
       "<table border=\"1\" class=\"dataframe\">\n",
       "  <thead>\n",
       "    <tr style=\"text-align: right;\">\n",
       "      <th></th>\n",
       "      <th>Algorithm</th>\n",
       "      <th>Accuracy</th>\n",
       "      <th>Precision</th>\n",
       "      <th>Recall</th>\n",
       "      <th>F1_score</th>\n",
       "    </tr>\n",
       "  </thead>\n",
       "  <tbody>\n",
       "    <tr>\n",
       "      <th>0</th>\n",
       "      <td>KNN</td>\n",
       "      <td>0.934055</td>\n",
       "      <td>0.964572</td>\n",
       "      <td>0.880171</td>\n",
       "      <td>0.920441</td>\n",
       "    </tr>\n",
       "    <tr>\n",
       "      <th>1</th>\n",
       "      <td>Decision Tree</td>\n",
       "      <td>0.973674</td>\n",
       "      <td>0.981817</td>\n",
       "      <td>0.956981</td>\n",
       "      <td>0.969240</td>\n",
       "    </tr>\n",
       "  </tbody>\n",
       "</table>\n",
       "</div>"
      ],
      "text/plain": [
       "       Algorithm  Accuracy  Precision    Recall  F1_score\n",
       "0            KNN  0.934055   0.964572  0.880171  0.920441\n",
       "1  Decision Tree  0.973674   0.981817  0.956981  0.969240"
      ]
     },
     "execution_count": 37,
     "metadata": {},
     "output_type": "execute_result"
    }
   ],
   "source": [
    "train_scores = register_performance(tree, 'Decision Tree', X_train, y_train, train_scores)\n",
    "train_scores"
   ]
  },
  {
   "cell_type": "code",
   "execution_count": 38,
   "id": "cb98d4e0",
   "metadata": {
    "ExecuteTime": {
     "end_time": "2023-10-30T19:45:13.154000Z",
     "start_time": "2023-10-30T19:45:13.136621Z"
    },
    "hidden": true
   },
   "outputs": [
    {
     "data": {
      "text/plain": [
       "array([[40530,   557],\n",
       "       [ 1352, 30076]])"
      ]
     },
     "execution_count": 38,
     "metadata": {},
     "output_type": "execute_result"
    }
   ],
   "source": [
    "confusion_matrix(y_train, tree.predict(X_train))"
   ]
  },
  {
   "cell_type": "markdown",
   "id": "b4370dcb",
   "metadata": {
    "hidden": true
   },
   "source": [
    "**Validation**"
   ]
  },
  {
   "cell_type": "code",
   "execution_count": 39,
   "id": "52dfedbe",
   "metadata": {
    "ExecuteTime": {
     "end_time": "2023-10-30T19:45:27.582523Z",
     "start_time": "2023-10-30T19:45:27.551098Z"
    },
    "hidden": true
   },
   "outputs": [
    {
     "data": {
      "text/html": [
       "<div>\n",
       "<style scoped>\n",
       "    .dataframe tbody tr th:only-of-type {\n",
       "        vertical-align: middle;\n",
       "    }\n",
       "\n",
       "    .dataframe tbody tr th {\n",
       "        vertical-align: top;\n",
       "    }\n",
       "\n",
       "    .dataframe thead th {\n",
       "        text-align: right;\n",
       "    }\n",
       "</style>\n",
       "<table border=\"1\" class=\"dataframe\">\n",
       "  <thead>\n",
       "    <tr style=\"text-align: right;\">\n",
       "      <th></th>\n",
       "      <th>Algorithm</th>\n",
       "      <th>Accuracy</th>\n",
       "      <th>Precision</th>\n",
       "      <th>Recall</th>\n",
       "      <th>F1_score</th>\n",
       "    </tr>\n",
       "  </thead>\n",
       "  <tbody>\n",
       "    <tr>\n",
       "      <th>0</th>\n",
       "      <td>KNN</td>\n",
       "      <td>0.926510</td>\n",
       "      <td>0.957389</td>\n",
       "      <td>0.869107</td>\n",
       "      <td>0.911115</td>\n",
       "    </tr>\n",
       "    <tr>\n",
       "      <th>1</th>\n",
       "      <td>Decision Tree</td>\n",
       "      <td>0.950706</td>\n",
       "      <td>0.954051</td>\n",
       "      <td>0.931101</td>\n",
       "      <td>0.942436</td>\n",
       "    </tr>\n",
       "  </tbody>\n",
       "</table>\n",
       "</div>"
      ],
      "text/plain": [
       "       Algorithm  Accuracy  Precision    Recall  F1_score\n",
       "0            KNN  0.926510   0.957389  0.869107  0.911115\n",
       "1  Decision Tree  0.950706   0.954051  0.931101  0.942436"
      ]
     },
     "execution_count": 39,
     "metadata": {},
     "output_type": "execute_result"
    }
   ],
   "source": [
    "val_scores = register_performance(tree, 'Decision Tree', X_val, y_val, val_scores)\n",
    "val_scores"
   ]
  },
  {
   "cell_type": "code",
   "execution_count": 40,
   "id": "63a4496f",
   "metadata": {
    "ExecuteTime": {
     "end_time": "2023-10-30T19:45:48.896490Z",
     "start_time": "2023-10-30T19:45:48.887016Z"
    },
    "hidden": true
   },
   "outputs": [
    {
     "data": {
      "text/plain": [
       "array([[17006,   604],\n",
       "       [  928, 12541]])"
      ]
     },
     "execution_count": 40,
     "metadata": {},
     "output_type": "execute_result"
    }
   ],
   "source": [
    "confusion_matrix(y_val, tree.predict(X_val))"
   ]
  },
  {
   "cell_type": "markdown",
   "id": "3443a695",
   "metadata": {
    "hidden": true
   },
   "source": [
    "**Test**"
   ]
  },
  {
   "cell_type": "code",
   "execution_count": 41,
   "id": "3a1afd2a",
   "metadata": {
    "ExecuteTime": {
     "end_time": "2023-10-30T19:46:01.780645Z",
     "start_time": "2023-10-30T19:46:01.741840Z"
    },
    "hidden": true
   },
   "outputs": [
    {
     "data": {
      "text/html": [
       "<div>\n",
       "<style scoped>\n",
       "    .dataframe tbody tr th:only-of-type {\n",
       "        vertical-align: middle;\n",
       "    }\n",
       "\n",
       "    .dataframe tbody tr th {\n",
       "        vertical-align: top;\n",
       "    }\n",
       "\n",
       "    .dataframe thead th {\n",
       "        text-align: right;\n",
       "    }\n",
       "</style>\n",
       "<table border=\"1\" class=\"dataframe\">\n",
       "  <thead>\n",
       "    <tr style=\"text-align: right;\">\n",
       "      <th></th>\n",
       "      <th>Algorithm</th>\n",
       "      <th>Accuracy</th>\n",
       "      <th>Precision</th>\n",
       "      <th>Recall</th>\n",
       "      <th>F1_score</th>\n",
       "    </tr>\n",
       "  </thead>\n",
       "  <tbody>\n",
       "    <tr>\n",
       "      <th>0</th>\n",
       "      <td>KNN</td>\n",
       "      <td>0.924999</td>\n",
       "      <td>0.955173</td>\n",
       "      <td>0.869952</td>\n",
       "      <td>0.910573</td>\n",
       "    </tr>\n",
       "    <tr>\n",
       "      <th>1</th>\n",
       "      <td>Decision Tree</td>\n",
       "      <td>0.951570</td>\n",
       "      <td>0.955574</td>\n",
       "      <td>0.933040</td>\n",
       "      <td>0.944172</td>\n",
       "    </tr>\n",
       "  </tbody>\n",
       "</table>\n",
       "</div>"
      ],
      "text/plain": [
       "       Algorithm  Accuracy  Precision    Recall  F1_score\n",
       "0            KNN  0.924999   0.955173  0.869952  0.910573\n",
       "1  Decision Tree  0.951570   0.955574  0.933040  0.944172"
      ]
     },
     "execution_count": 41,
     "metadata": {},
     "output_type": "execute_result"
    }
   ],
   "source": [
    "test_scores = register_performance(tree, 'Decision Tree', X_test, y_test, test_scores)\n",
    "test_scores"
   ]
  },
  {
   "cell_type": "code",
   "execution_count": 42,
   "id": "506c75bf",
   "metadata": {
    "ExecuteTime": {
     "end_time": "2023-10-30T19:46:21.442719Z",
     "start_time": "2023-10-30T19:46:21.434134Z"
    },
    "hidden": true
   },
   "outputs": [
    {
     "data": {
      "text/plain": [
       "array([[14035,   493],\n",
       "       [  761, 10604]])"
      ]
     },
     "execution_count": 42,
     "metadata": {},
     "output_type": "execute_result"
    }
   ],
   "source": [
    "confusion_matrix(y_test, tree.predict(X_test))"
   ]
  },
  {
   "cell_type": "markdown",
   "id": "361f5500",
   "metadata": {
    "heading_collapsed": true,
    "hidden": true
   },
   "source": [
    "## 1.3 Random Forest"
   ]
  },
  {
   "cell_type": "markdown",
   "id": "849c5676",
   "metadata": {
    "hidden": true
   },
   "source": [
    "O algoritmo Random Forest implementado pela classe `RandomForestClassifier`, utiliza várias árvores de decisão para aprender o comportamento do fenômeno e as utilizam para determinar a classe de novos pontos através de uma votação. O treinamento de cada árvore é feito em cima de um número limitado de features, de modo que cada árvore terá uma visão diferente do fenômeno sendo estudado; além disso nos treinamentos individuais é utilizado uma técnica de amostragem chamada boostrap a qual seleciona aleatóriamente os registros sendo permitido a repetição. A idéia principal do algoritmo é que cada estimador (árvore) será responsável por aprender um aspecto específico do fenômeno, e para determinar a classe final de cada nova observação utilizamos a opinião de cada uma delas através de uma votação."
   ]
  },
  {
   "cell_type": "markdown",
   "id": "c06691c1",
   "metadata": {
    "hidden": true
   },
   "source": [
    "Parâmetros para serem optimizados:\n",
    "\n",
    "- `n_estimators`: número de árvores que compõem a floresta.\n",
    "- `max_depth`: profundidade máxima de cada árvore. "
   ]
  },
  {
   "cell_type": "markdown",
   "id": "b2d528d7",
   "metadata": {
    "heading_collapsed": true,
    "hidden": true
   },
   "source": [
    "### 1.3.1 Fine-Tuning"
   ]
  },
  {
   "cell_type": "code",
   "execution_count": 43,
   "id": "dcd7747d",
   "metadata": {
    "ExecuteTime": {
     "end_time": "2023-10-30T19:55:25.355052Z",
     "start_time": "2023-10-30T19:47:21.655030Z"
    },
    "hidden": true
   },
   "outputs": [],
   "source": [
    "rf_scores = ml_training(\n",
    "                            RandomForestClassifier,\n",
    "                            'classification',\n",
    "                            X_train, y_train, X_val, y_val,\n",
    "                            n_estimators=np.arange(100, 201, 10),\n",
    "                            max_depth=np.arange(5, 36, 5)\n",
    "            )"
   ]
  },
  {
   "cell_type": "code",
   "execution_count": 45,
   "id": "4dd534c4",
   "metadata": {
    "ExecuteTime": {
     "end_time": "2023-10-30T19:56:00.296832Z",
     "start_time": "2023-10-30T19:56:00.286711Z"
    },
    "hidden": true
   },
   "outputs": [
    {
     "data": {
      "text/html": [
       "<div>\n",
       "<style scoped>\n",
       "    .dataframe tbody tr th:only-of-type {\n",
       "        vertical-align: middle;\n",
       "    }\n",
       "\n",
       "    .dataframe tbody tr th {\n",
       "        vertical-align: top;\n",
       "    }\n",
       "\n",
       "    .dataframe thead th {\n",
       "        text-align: right;\n",
       "    }\n",
       "</style>\n",
       "<table border=\"1\" class=\"dataframe\">\n",
       "  <thead>\n",
       "    <tr style=\"text-align: right;\">\n",
       "      <th></th>\n",
       "      <th>name</th>\n",
       "      <th>n_estimators</th>\n",
       "      <th>max_depth</th>\n",
       "      <th>accuracy</th>\n",
       "      <th>precision</th>\n",
       "      <th>recall</th>\n",
       "      <th>f1score</th>\n",
       "    </tr>\n",
       "  </thead>\n",
       "  <tbody>\n",
       "    <tr>\n",
       "      <th>0</th>\n",
       "      <td>RandomForestClassifier</td>\n",
       "      <td>100</td>\n",
       "      <td>5</td>\n",
       "      <td>0.917468</td>\n",
       "      <td>0.914916</td>\n",
       "      <td>0.892568</td>\n",
       "      <td>0.903604</td>\n",
       "    </tr>\n",
       "    <tr>\n",
       "      <th>1</th>\n",
       "      <td>RandomForestClassifier</td>\n",
       "      <td>100</td>\n",
       "      <td>10</td>\n",
       "      <td>0.945816</td>\n",
       "      <td>0.944348</td>\n",
       "      <td>0.929765</td>\n",
       "      <td>0.937000</td>\n",
       "    </tr>\n",
       "    <tr>\n",
       "      <th>2</th>\n",
       "      <td>RandomForestClassifier</td>\n",
       "      <td>100</td>\n",
       "      <td>15</td>\n",
       "      <td>0.959619</td>\n",
       "      <td>0.965828</td>\n",
       "      <td>0.940085</td>\n",
       "      <td>0.952782</td>\n",
       "    </tr>\n",
       "    <tr>\n",
       "      <th>3</th>\n",
       "      <td>RandomForestClassifier</td>\n",
       "      <td>100</td>\n",
       "      <td>20</td>\n",
       "      <td>0.961453</td>\n",
       "      <td>0.969254</td>\n",
       "      <td>0.940901</td>\n",
       "      <td>0.954867</td>\n",
       "    </tr>\n",
       "    <tr>\n",
       "      <th>4</th>\n",
       "      <td>RandomForestClassifier</td>\n",
       "      <td>100</td>\n",
       "      <td>25</td>\n",
       "      <td>0.962418</td>\n",
       "      <td>0.970186</td>\n",
       "      <td>0.942238</td>\n",
       "      <td>0.956008</td>\n",
       "    </tr>\n",
       "    <tr>\n",
       "      <th>...</th>\n",
       "      <td>...</td>\n",
       "      <td>...</td>\n",
       "      <td>...</td>\n",
       "      <td>...</td>\n",
       "      <td>...</td>\n",
       "      <td>...</td>\n",
       "      <td>...</td>\n",
       "    </tr>\n",
       "    <tr>\n",
       "      <th>72</th>\n",
       "      <td>RandomForestClassifier</td>\n",
       "      <td>200</td>\n",
       "      <td>15</td>\n",
       "      <td>0.959876</td>\n",
       "      <td>0.964927</td>\n",
       "      <td>0.941644</td>\n",
       "      <td>0.953143</td>\n",
       "    </tr>\n",
       "    <tr>\n",
       "      <th>73</th>\n",
       "      <td>RandomForestClassifier</td>\n",
       "      <td>200</td>\n",
       "      <td>20</td>\n",
       "      <td>0.961904</td>\n",
       "      <td>0.969862</td>\n",
       "      <td>0.941347</td>\n",
       "      <td>0.955391</td>\n",
       "    </tr>\n",
       "    <tr>\n",
       "      <th>74</th>\n",
       "      <td>RandomForestClassifier</td>\n",
       "      <td>200</td>\n",
       "      <td>25</td>\n",
       "      <td>0.962483</td>\n",
       "      <td>0.971705</td>\n",
       "      <td>0.940827</td>\n",
       "      <td>0.956017</td>\n",
       "    </tr>\n",
       "    <tr>\n",
       "      <th>75</th>\n",
       "      <td>RandomForestClassifier</td>\n",
       "      <td>200</td>\n",
       "      <td>30</td>\n",
       "      <td>0.962547</td>\n",
       "      <td>0.970698</td>\n",
       "      <td>0.942015</td>\n",
       "      <td>0.956142</td>\n",
       "    </tr>\n",
       "    <tr>\n",
       "      <th>76</th>\n",
       "      <td>RandomForestClassifier</td>\n",
       "      <td>200</td>\n",
       "      <td>35</td>\n",
       "      <td>0.963351</td>\n",
       "      <td>0.972776</td>\n",
       "      <td>0.941792</td>\n",
       "      <td>0.957033</td>\n",
       "    </tr>\n",
       "  </tbody>\n",
       "</table>\n",
       "<p>77 rows × 7 columns</p>\n",
       "</div>"
      ],
      "text/plain": [
       "                      name  n_estimators  max_depth  accuracy  precision  \\\n",
       "0   RandomForestClassifier           100          5  0.917468   0.914916   \n",
       "1   RandomForestClassifier           100         10  0.945816   0.944348   \n",
       "2   RandomForestClassifier           100         15  0.959619   0.965828   \n",
       "3   RandomForestClassifier           100         20  0.961453   0.969254   \n",
       "4   RandomForestClassifier           100         25  0.962418   0.970186   \n",
       "..                     ...           ...        ...       ...        ...   \n",
       "72  RandomForestClassifier           200         15  0.959876   0.964927   \n",
       "73  RandomForestClassifier           200         20  0.961904   0.969862   \n",
       "74  RandomForestClassifier           200         25  0.962483   0.971705   \n",
       "75  RandomForestClassifier           200         30  0.962547   0.970698   \n",
       "76  RandomForestClassifier           200         35  0.963351   0.972776   \n",
       "\n",
       "      recall   f1score  \n",
       "0   0.892568  0.903604  \n",
       "1   0.929765  0.937000  \n",
       "2   0.940085  0.952782  \n",
       "3   0.940901  0.954867  \n",
       "4   0.942238  0.956008  \n",
       "..       ...       ...  \n",
       "72  0.941644  0.953143  \n",
       "73  0.941347  0.955391  \n",
       "74  0.940827  0.956017  \n",
       "75  0.942015  0.956142  \n",
       "76  0.941792  0.957033  \n",
       "\n",
       "[77 rows x 7 columns]"
      ]
     },
     "execution_count": 45,
     "metadata": {},
     "output_type": "execute_result"
    }
   ],
   "source": [
    "# rf_scores.to_csv('output/classification/random_forest.csv', index=False)\n",
    "rf_scores = pd.read_csv('output/classification/random_forest.csv')\n",
    "\n",
    "rf_scores"
   ]
  },
  {
   "cell_type": "code",
   "execution_count": 50,
   "id": "1c2eecff",
   "metadata": {
    "ExecuteTime": {
     "end_time": "2023-10-30T19:56:48.327771Z",
     "start_time": "2023-10-30T19:56:48.120413Z"
    },
    "hidden": true
   },
   "outputs": [
    {
     "data": {
      "image/png": "[encoded data removed]",
      "text/plain": [
       "<Figure size 1000x600 with 1 Axes>"
      ]
     },
     "metadata": {},
     "output_type": "display_data"
    }
   ],
   "source": [
    "rf_scores.drop('max_depth', axis=1).groupby('n_estimators').mean(numeric_only=True).reset_index().plot(x='n_estimators', ylabel='metrics', style='o-', figsize=(10, 6));"
   ]
  },
  {
   "cell_type": "code",
   "execution_count": 51,
   "id": "7b167411",
   "metadata": {
    "ExecuteTime": {
     "end_time": "2023-10-30T19:57:03.654647Z",
     "start_time": "2023-10-30T19:57:03.471866Z"
    },
    "hidden": true
   },
   "outputs": [
    {
     "data": {
      "image/png": "[encoded data removed]",
      "text/plain": [
       "<Figure size 1000x600 with 1 Axes>"
      ]
     },
     "metadata": {},
     "output_type": "display_data"
    }
   ],
   "source": [
    "rf_scores.drop('n_estimators', axis=1).groupby('max_depth').mean(numeric_only=True).reset_index().plot(x='max_depth', ylabel='metrics', style='o-', figsize=(10, 6));"
   ]
  },
  {
   "cell_type": "code",
   "execution_count": 52,
   "id": "729a3f51",
   "metadata": {
    "ExecuteTime": {
     "end_time": "2023-10-30T19:57:21.226338Z",
     "start_time": "2023-10-30T19:57:21.027283Z"
    },
    "hidden": true
   },
   "outputs": [
    {
     "data": {
      "image/png": "[encoded data removed]",
      "text/plain": [
       "<Figure size 640x480 with 1 Axes>"
      ]
     },
     "metadata": {},
     "output_type": "display_data"
    }
   ],
   "source": [
    "ax = plt.figure().add_subplot(projection='3d')\n",
    "\n",
    "ax.scatter(xs=rf_scores['n_estimators'], ys=rf_scores['max_depth'], zs=rf_scores['accuracy'],  marker='.', label='accuracy')\n",
    "ax.scatter(xs=rf_scores['n_estimators'], ys=rf_scores['max_depth'], zs=rf_scores['precision'], marker='.', label='precision')\n",
    "ax.scatter(xs=rf_scores['n_estimators'], ys=rf_scores['max_depth'], zs=rf_scores['recall'],    marker='.', label='recall')\n",
    "ax.scatter(xs=rf_scores['n_estimators'], ys=rf_scores['max_depth'], zs=rf_scores['f1score'],   marker='.', label='f1_score')\n",
    "\n",
    "ax.legend()\n",
    "ax.set_xlabel('n_estimators')\n",
    "ax.set_ylabel('max_depth')\n",
    "ax.set_zlabel('score metrics');"
   ]
  },
  {
   "cell_type": "code",
   "execution_count": 54,
   "id": "d69b0c90",
   "metadata": {
    "ExecuteTime": {
     "end_time": "2023-10-30T19:57:37.535400Z",
     "start_time": "2023-10-30T19:57:37.526760Z"
    },
    "hidden": true
   },
   "outputs": [
    {
     "data": {
      "text/plain": [
       "name            RandomForestClassifier\n",
       "n_estimators                       200\n",
       "max_depth                           35\n",
       "accuracy                      0.963351\n",
       "precision                     0.972776\n",
       "recall                        0.941792\n",
       "f1score                       0.957033\n",
       "Name: 76, dtype: object"
      ]
     },
     "execution_count": 54,
     "metadata": {},
     "output_type": "execute_result"
    }
   ],
   "source": [
    "rf_max_accuracy = rf_scores.loc[rf_scores['accuracy'].idxmax()]\n",
    "rf_max_accuracy"
   ]
  },
  {
   "cell_type": "markdown",
   "id": "08d6b15e",
   "metadata": {
    "heading_collapsed": true,
    "hidden": true
   },
   "source": [
    "### 1.3.2 Performance"
   ]
  },
  {
   "cell_type": "code",
   "execution_count": 55,
   "id": "b8642bea",
   "metadata": {
    "ExecuteTime": {
     "end_time": "2023-10-30T19:58:18.129227Z",
     "start_time": "2023-10-30T19:58:09.345249Z"
    },
    "hidden": true
   },
   "outputs": [
    {
     "data": {
      "text/html": [
       "<style>#sk-container-id-3 {color: black;background-color: white;}#sk-container-id-3 pre{padding: 0;}#sk-container-id-3 div.sk-toggleable {background-color: white;}#sk-container-id-3 label.sk-toggleable__label {cursor: pointer;display: block;width: 100%;margin-bottom: 0;padding: 0.3em;box-sizing: border-box;text-align: center;}#sk-container-id-3 label.sk-toggleable__label-arrow:before {content: \"▸\";float: left;margin-right: 0.25em;color: #696969;}#sk-container-id-3 label.sk-toggleable__label-arrow:hover:before {color: black;}#sk-container-id-3 div.sk-estimator:hover label.sk-toggleable__label-arrow:before {color: black;}#sk-container-id-3 div.sk-toggleable__content {max-height: 0;max-width: 0;overflow: hidden;text-align: left;background-color: #f0f8ff;}#sk-container-id-3 div.sk-toggleable__content pre {margin: 0.2em;color: black;border-radius: 0.25em;background-color: #f0f8ff;}#sk-container-id-3 input.sk-toggleable__control:checked~div.sk-toggleable__content {max-height: 200px;max-width: 100%;overflow: auto;}#sk-container-id-3 input.sk-toggleable__control:checked~label.sk-toggleable__label-arrow:before {content: \"▾\";}#sk-container-id-3 div.sk-estimator input.sk-toggleable__control:checked~label.sk-toggleable__label {background-color: #d4ebff;}#sk-container-id-3 div.sk-label input.sk-toggleable__control:checked~label.sk-toggleable__label {background-color: #d4ebff;}#sk-container-id-3 input.sk-hidden--visually {border: 0;clip: rect(1px 1px 1px 1px);clip: rect(1px, 1px, 1px, 1px);height: 1px;margin: -1px;overflow: hidden;padding: 0;position: absolute;width: 1px;}#sk-container-id-3 div.sk-estimator {font-family: monospace;background-color: #f0f8ff;border: 1px dotted black;border-radius: 0.25em;box-sizing: border-box;margin-bottom: 0.5em;}#sk-container-id-3 div.sk-estimator:hover {background-color: #d4ebff;}#sk-container-id-3 div.sk-parallel-item::after {content: \"\";width: 100%;border-bottom: 1px solid gray;flex-grow: 1;}#sk-container-id-3 div.sk-label:hover label.sk-toggleable__label {background-color: #d4ebff;}#sk-container-id-3 div.sk-serial::before {content: \"\";position: absolute;border-left: 1px solid gray;box-sizing: border-box;top: 0;bottom: 0;left: 50%;z-index: 0;}#sk-container-id-3 div.sk-serial {display: flex;flex-direction: column;align-items: center;background-color: white;padding-right: 0.2em;padding-left: 0.2em;position: relative;}#sk-container-id-3 div.sk-item {position: relative;z-index: 1;}#sk-container-id-3 div.sk-parallel {display: flex;align-items: stretch;justify-content: center;background-color: white;position: relative;}#sk-container-id-3 div.sk-item::before, #sk-container-id-3 div.sk-parallel-item::before {content: \"\";position: absolute;border-left: 1px solid gray;box-sizing: border-box;top: 0;bottom: 0;left: 50%;z-index: -1;}#sk-container-id-3 div.sk-parallel-item {display: flex;flex-direction: column;z-index: 1;position: relative;background-color: white;}#sk-container-id-3 div.sk-parallel-item:first-child::after {align-self: flex-end;width: 50%;}#sk-container-id-3 div.sk-parallel-item:last-child::after {align-self: flex-start;width: 50%;}#sk-container-id-3 div.sk-parallel-item:only-child::after {width: 0;}#sk-container-id-3 div.sk-dashed-wrapped {border: 1px dashed gray;margin: 0 0.4em 0.5em 0.4em;box-sizing: border-box;padding-bottom: 0.4em;background-color: white;}#sk-container-id-3 div.sk-label label {font-family: monospace;font-weight: bold;display: inline-block;line-height: 1.2em;}#sk-container-id-3 div.sk-label-container {text-align: center;}#sk-container-id-3 div.sk-container {/* jupyter's `normalize.less` sets `[hidden] { display: none; }` but bootstrap.min.css set `[hidden] { display: none !important; }` so we also need the `!important` here to be able to override the default hidden behavior on the sphinx rendered scikit-learn.org. See: https://github.com/scikit-learn/scikit-learn/issues/21755 */display: inline-block !important;position: relative;}#sk-container-id-3 div.sk-text-repr-fallback {display: none;}</style><div id=\"sk-container-id-3\" class=\"sk-top-container\"><div class=\"sk-text-repr-fallback\"><pre>RandomForestClassifier(max_depth=35, n_estimators=200)</pre><b>In a Jupyter environment, please rerun this cell to show the HTML representation or trust the notebook. <br />On GitHub, the HTML representation is unable to render, please try loading this page with nbviewer.org.</b></div><div class=\"sk-container\" hidden><div class=\"sk-item\"><div class=\"sk-estimator sk-toggleable\"><input class=\"sk-toggleable__control sk-hidden--visually\" id=\"sk-estimator-id-3\" type=\"checkbox\" checked><label for=\"sk-estimator-id-3\" class=\"sk-toggleable__label sk-toggleable__label-arrow\">RandomForestClassifier</label><div class=\"sk-toggleable__content\"><pre>RandomForestClassifier(max_depth=35, n_estimators=200)</pre></div></div></div></div></div>"
      ],
      "text/plain": [
       "RandomForestClassifier(max_depth=35, n_estimators=200)"
      ]
     },
     "execution_count": 55,
     "metadata": {},
     "output_type": "execute_result"
    }
   ],
   "source": [
    "# model definition\n",
    "rf = RandomForestClassifier(n_estimators=rf_max_accuracy['n_estimators'], max_depth=rf_max_accuracy['max_depth'])\n",
    "\n",
    "# model fit\n",
    "rf.fit(X_train, y_train)"
   ]
  },
  {
   "cell_type": "markdown",
   "id": "bf540546",
   "metadata": {
    "hidden": true
   },
   "source": [
    "**Training**"
   ]
  },
  {
   "cell_type": "code",
   "execution_count": 56,
   "id": "983c928f",
   "metadata": {
    "ExecuteTime": {
     "end_time": "2023-10-30T19:58:41.805681Z",
     "start_time": "2023-10-30T19:58:40.203115Z"
    },
    "hidden": true
   },
   "outputs": [
    {
     "data": {
      "text/html": [
       "<div>\n",
       "<style scoped>\n",
       "    .dataframe tbody tr th:only-of-type {\n",
       "        vertical-align: middle;\n",
       "    }\n",
       "\n",
       "    .dataframe tbody tr th {\n",
       "        vertical-align: top;\n",
       "    }\n",
       "\n",
       "    .dataframe thead th {\n",
       "        text-align: right;\n",
       "    }\n",
       "</style>\n",
       "<table border=\"1\" class=\"dataframe\">\n",
       "  <thead>\n",
       "    <tr style=\"text-align: right;\">\n",
       "      <th></th>\n",
       "      <th>Algorithm</th>\n",
       "      <th>Accuracy</th>\n",
       "      <th>Precision</th>\n",
       "      <th>Recall</th>\n",
       "      <th>F1_score</th>\n",
       "    </tr>\n",
       "  </thead>\n",
       "  <tbody>\n",
       "    <tr>\n",
       "      <th>0</th>\n",
       "      <td>KNN</td>\n",
       "      <td>0.934055</td>\n",
       "      <td>0.964572</td>\n",
       "      <td>0.880171</td>\n",
       "      <td>0.920441</td>\n",
       "    </tr>\n",
       "    <tr>\n",
       "      <th>1</th>\n",
       "      <td>Decision Tree</td>\n",
       "      <td>0.973674</td>\n",
       "      <td>0.981817</td>\n",
       "      <td>0.956981</td>\n",
       "      <td>0.969240</td>\n",
       "    </tr>\n",
       "    <tr>\n",
       "      <th>2</th>\n",
       "      <td>Random Forest</td>\n",
       "      <td>1.000000</td>\n",
       "      <td>1.000000</td>\n",
       "      <td>1.000000</td>\n",
       "      <td>1.000000</td>\n",
       "    </tr>\n",
       "  </tbody>\n",
       "</table>\n",
       "</div>"
      ],
      "text/plain": [
       "       Algorithm  Accuracy  Precision    Recall  F1_score\n",
       "0            KNN  0.934055   0.964572  0.880171  0.920441\n",
       "1  Decision Tree  0.973674   0.981817  0.956981  0.969240\n",
       "2  Random Forest  1.000000   1.000000  1.000000  1.000000"
      ]
     },
     "execution_count": 56,
     "metadata": {},
     "output_type": "execute_result"
    }
   ],
   "source": [
    "train_scores = register_performance(rf, 'Random Forest', X_train, y_train, train_scores)\n",
    "train_scores"
   ]
  },
  {
   "cell_type": "code",
   "execution_count": 57,
   "id": "1bf4d0b5",
   "metadata": {
    "ExecuteTime": {
     "end_time": "2023-10-30T19:59:05.473838Z",
     "start_time": "2023-10-30T19:59:03.909342Z"
    },
    "hidden": true
   },
   "outputs": [
    {
     "data": {
      "text/plain": [
       "array([[41087,     0],\n",
       "       [    0, 31428]])"
      ]
     },
     "execution_count": 57,
     "metadata": {},
     "output_type": "execute_result"
    }
   ],
   "source": [
    "confusion_matrix(y_train, rf.predict(X_train))"
   ]
  },
  {
   "cell_type": "markdown",
   "id": "6ea0532d",
   "metadata": {
    "hidden": true
   },
   "source": [
    "**Validation**"
   ]
  },
  {
   "cell_type": "code",
   "execution_count": 58,
   "id": "e52db5fc",
   "metadata": {
    "ExecuteTime": {
     "end_time": "2023-10-30T19:59:39.417372Z",
     "start_time": "2023-10-30T19:59:38.656176Z"
    },
    "hidden": true
   },
   "outputs": [
    {
     "data": {
      "text/html": [
       "<div>\n",
       "<style scoped>\n",
       "    .dataframe tbody tr th:only-of-type {\n",
       "        vertical-align: middle;\n",
       "    }\n",
       "\n",
       "    .dataframe tbody tr th {\n",
       "        vertical-align: top;\n",
       "    }\n",
       "\n",
       "    .dataframe thead th {\n",
       "        text-align: right;\n",
       "    }\n",
       "</style>\n",
       "<table border=\"1\" class=\"dataframe\">\n",
       "  <thead>\n",
       "    <tr style=\"text-align: right;\">\n",
       "      <th></th>\n",
       "      <th>Algorithm</th>\n",
       "      <th>Accuracy</th>\n",
       "      <th>Precision</th>\n",
       "      <th>Recall</th>\n",
       "      <th>F1_score</th>\n",
       "    </tr>\n",
       "  </thead>\n",
       "  <tbody>\n",
       "    <tr>\n",
       "      <th>0</th>\n",
       "      <td>KNN</td>\n",
       "      <td>0.926510</td>\n",
       "      <td>0.957389</td>\n",
       "      <td>0.869107</td>\n",
       "      <td>0.911115</td>\n",
       "    </tr>\n",
       "    <tr>\n",
       "      <th>1</th>\n",
       "      <td>Decision Tree</td>\n",
       "      <td>0.950706</td>\n",
       "      <td>0.954051</td>\n",
       "      <td>0.931101</td>\n",
       "      <td>0.942436</td>\n",
       "    </tr>\n",
       "    <tr>\n",
       "      <th>2</th>\n",
       "      <td>Random Forest</td>\n",
       "      <td>0.962193</td>\n",
       "      <td>0.971468</td>\n",
       "      <td>0.940382</td>\n",
       "      <td>0.955672</td>\n",
       "    </tr>\n",
       "  </tbody>\n",
       "</table>\n",
       "</div>"
      ],
      "text/plain": [
       "       Algorithm  Accuracy  Precision    Recall  F1_score\n",
       "0            KNN  0.926510   0.957389  0.869107  0.911115\n",
       "1  Decision Tree  0.950706   0.954051  0.931101  0.942436\n",
       "2  Random Forest  0.962193   0.971468  0.940382  0.955672"
      ]
     },
     "execution_count": 58,
     "metadata": {},
     "output_type": "execute_result"
    }
   ],
   "source": [
    "val_scores = register_performance(rf, 'Random Forest', X_val, y_val, val_scores)\n",
    "val_scores"
   ]
  },
  {
   "cell_type": "code",
   "execution_count": 59,
   "id": "4723ded8",
   "metadata": {
    "ExecuteTime": {
     "end_time": "2023-10-30T19:59:57.078295Z",
     "start_time": "2023-10-30T19:59:56.393710Z"
    },
    "hidden": true
   },
   "outputs": [
    {
     "data": {
      "text/plain": [
       "array([[17238,   372],\n",
       "       [  803, 12666]])"
      ]
     },
     "execution_count": 59,
     "metadata": {},
     "output_type": "execute_result"
    }
   ],
   "source": [
    "confusion_matrix(y_val, rf.predict(X_val))"
   ]
  },
  {
   "cell_type": "markdown",
   "id": "afe5831c",
   "metadata": {
    "hidden": true
   },
   "source": [
    "**Test**"
   ]
  },
  {
   "cell_type": "code",
   "execution_count": 60,
   "id": "c8d00c2e",
   "metadata": {
    "ExecuteTime": {
     "end_time": "2023-10-30T20:00:11.666936Z",
     "start_time": "2023-10-30T20:00:11.030700Z"
    },
    "hidden": true
   },
   "outputs": [
    {
     "data": {
      "text/html": [
       "<div>\n",
       "<style scoped>\n",
       "    .dataframe tbody tr th:only-of-type {\n",
       "        vertical-align: middle;\n",
       "    }\n",
       "\n",
       "    .dataframe tbody tr th {\n",
       "        vertical-align: top;\n",
       "    }\n",
       "\n",
       "    .dataframe thead th {\n",
       "        text-align: right;\n",
       "    }\n",
       "</style>\n",
       "<table border=\"1\" class=\"dataframe\">\n",
       "  <thead>\n",
       "    <tr style=\"text-align: right;\">\n",
       "      <th></th>\n",
       "      <th>Algorithm</th>\n",
       "      <th>Accuracy</th>\n",
       "      <th>Precision</th>\n",
       "      <th>Recall</th>\n",
       "      <th>F1_score</th>\n",
       "    </tr>\n",
       "  </thead>\n",
       "  <tbody>\n",
       "    <tr>\n",
       "      <th>0</th>\n",
       "      <td>KNN</td>\n",
       "      <td>0.924999</td>\n",
       "      <td>0.955173</td>\n",
       "      <td>0.869952</td>\n",
       "      <td>0.910573</td>\n",
       "    </tr>\n",
       "    <tr>\n",
       "      <th>1</th>\n",
       "      <td>Decision Tree</td>\n",
       "      <td>0.951570</td>\n",
       "      <td>0.955574</td>\n",
       "      <td>0.933040</td>\n",
       "      <td>0.944172</td>\n",
       "    </tr>\n",
       "    <tr>\n",
       "      <th>2</th>\n",
       "      <td>Random Forest</td>\n",
       "      <td>0.961766</td>\n",
       "      <td>0.970351</td>\n",
       "      <td>0.941663</td>\n",
       "      <td>0.955792</td>\n",
       "    </tr>\n",
       "  </tbody>\n",
       "</table>\n",
       "</div>"
      ],
      "text/plain": [
       "       Algorithm  Accuracy  Precision    Recall  F1_score\n",
       "0            KNN  0.924999   0.955173  0.869952  0.910573\n",
       "1  Decision Tree  0.951570   0.955574  0.933040  0.944172\n",
       "2  Random Forest  0.961766   0.970351  0.941663  0.955792"
      ]
     },
     "execution_count": 60,
     "metadata": {},
     "output_type": "execute_result"
    }
   ],
   "source": [
    "test_scores = register_performance(rf, 'Random Forest', X_test, y_test, test_scores)\n",
    "test_scores"
   ]
  },
  {
   "cell_type": "code",
   "execution_count": 61,
   "id": "9c70ad46",
   "metadata": {
    "ExecuteTime": {
     "end_time": "2023-10-30T20:00:31.926941Z",
     "start_time": "2023-10-30T20:00:31.347325Z"
    },
    "hidden": true
   },
   "outputs": [
    {
     "data": {
      "text/plain": [
       "array([[14201,   327],\n",
       "       [  663, 10702]])"
      ]
     },
     "execution_count": 61,
     "metadata": {},
     "output_type": "execute_result"
    }
   ],
   "source": [
    "confusion_matrix(y_test, rf.predict(X_test))"
   ]
  },
  {
   "cell_type": "markdown",
   "id": "ef2327c8",
   "metadata": {
    "heading_collapsed": true,
    "hidden": true
   },
   "source": [
    "## 1.4 Logistic Regression"
   ]
  },
  {
   "cell_type": "markdown",
   "id": "f96ee0c9",
   "metadata": {
    "hidden": true
   },
   "source": [
    "O algoritmo Logistic Regression implementado pela classe `LogisticRegression`, determina, a partir dos exemplos vistos no durante o treinamento, a probabilidade das novas observações pertencem a uma das classes vistas. Essas probabilidades são então utilizadas, junto a um threshold (probabilidade mínima que um ponto precisa atingir para pertencer a uma classe), para determinar qual classe cada novo ponto pertence.\n",
    "\n",
    "Geralmente o threshold é definido em relação a classe positiva, ou seja, se determinado ponto atingir uma probalidade de pertencer a classe positiva maior que o threshold, ele receberá o rótulo positivo, e caso contrário receberá o rótulo negativo. Resumindo, sendo $\\hat{y}$ a probabilidade calculada e $\\text{th}$ o threshold escolhido, temos:\n",
    "\n",
    "- Se $\\;\\hat{y} \\ge \\text{th} \\; \\Rightarrow \\;$ classe positiva\n",
    "- Se $\\;\\hat{y} \\lt \\text{th} \\; \\Rightarrow \\;$ classe negativa"
   ]
  },
  {
   "cell_type": "markdown",
   "id": "fe1d4725",
   "metadata": {
    "hidden": true
   },
   "source": [
    "Parâmetros para serem optimizados:\n",
    "\n",
    "- `C`: Define a força da regularização; quanto mais próximo de 0, maior será a força da regularização.\n",
    "\n",
    "- `solver`: Algoritmo utilizado para minimizar a função de custo.\n",
    "\n",
    "- `max_iter`: Número máximo de iterações permitido ao algoritmo 'solver' na hora de procurar um ponto de convergência (valor mínimo) da função de custo."
   ]
  },
  {
   "cell_type": "markdown",
   "id": "e56c479e",
   "metadata": {
    "heading_collapsed": true,
    "hidden": true
   },
   "source": [
    "### 1.4.1 Fine-Tuning"
   ]
  },
  {
   "cell_type": "code",
   "execution_count": 63,
   "id": "b2036153",
   "metadata": {
    "ExecuteTime": {
     "end_time": "2023-10-30T20:03:12.188476Z",
     "start_time": "2023-10-30T20:02:38.331389Z"
    },
    "hidden": true
   },
   "outputs": [],
   "source": [
    "lr_scores = ml_training(\n",
    "                            LogisticRegression,\n",
    "                            'classification',\n",
    "                            X_train, y_train, X_val, y_val,\n",
    "                            C=np.linspace(0.1, 1, 10),\n",
    "                            solver=['lbfgs', 'liblinear'],\n",
    "                            max_iter=[1000, 1500, 2000]\n",
    "            )"
   ]
  },
  {
   "cell_type": "code",
   "execution_count": 65,
   "id": "bf027a8a",
   "metadata": {
    "ExecuteTime": {
     "end_time": "2023-10-30T20:04:33.157901Z",
     "start_time": "2023-10-30T20:04:33.136301Z"
    },
    "hidden": true
   },
   "outputs": [
    {
     "data": {
      "text/html": [
       "<div>\n",
       "<style scoped>\n",
       "    .dataframe tbody tr th:only-of-type {\n",
       "        vertical-align: middle;\n",
       "    }\n",
       "\n",
       "    .dataframe tbody tr th {\n",
       "        vertical-align: top;\n",
       "    }\n",
       "\n",
       "    .dataframe thead th {\n",
       "        text-align: right;\n",
       "    }\n",
       "</style>\n",
       "<table border=\"1\" class=\"dataframe\">\n",
       "  <thead>\n",
       "    <tr style=\"text-align: right;\">\n",
       "      <th></th>\n",
       "      <th>name</th>\n",
       "      <th>C</th>\n",
       "      <th>solver</th>\n",
       "      <th>max_iter</th>\n",
       "      <th>accuracy</th>\n",
       "      <th>precision</th>\n",
       "      <th>recall</th>\n",
       "      <th>f1score</th>\n",
       "    </tr>\n",
       "  </thead>\n",
       "  <tbody>\n",
       "    <tr>\n",
       "      <th>0</th>\n",
       "      <td>LogisticRegression</td>\n",
       "      <td>0.1</td>\n",
       "      <td>lbfgs</td>\n",
       "      <td>1000</td>\n",
       "      <td>0.873999</td>\n",
       "      <td>0.869327</td>\n",
       "      <td>0.834732</td>\n",
       "      <td>0.851678</td>\n",
       "    </tr>\n",
       "    <tr>\n",
       "      <th>1</th>\n",
       "      <td>LogisticRegression</td>\n",
       "      <td>0.1</td>\n",
       "      <td>lbfgs</td>\n",
       "      <td>1500</td>\n",
       "      <td>0.873999</td>\n",
       "      <td>0.869327</td>\n",
       "      <td>0.834732</td>\n",
       "      <td>0.851678</td>\n",
       "    </tr>\n",
       "    <tr>\n",
       "      <th>2</th>\n",
       "      <td>LogisticRegression</td>\n",
       "      <td>0.1</td>\n",
       "      <td>lbfgs</td>\n",
       "      <td>2000</td>\n",
       "      <td>0.873999</td>\n",
       "      <td>0.869327</td>\n",
       "      <td>0.834732</td>\n",
       "      <td>0.851678</td>\n",
       "    </tr>\n",
       "    <tr>\n",
       "      <th>3</th>\n",
       "      <td>LogisticRegression</td>\n",
       "      <td>0.1</td>\n",
       "      <td>liblinear</td>\n",
       "      <td>1000</td>\n",
       "      <td>0.873902</td>\n",
       "      <td>0.868897</td>\n",
       "      <td>0.835029</td>\n",
       "      <td>0.851626</td>\n",
       "    </tr>\n",
       "    <tr>\n",
       "      <th>4</th>\n",
       "      <td>LogisticRegression</td>\n",
       "      <td>0.1</td>\n",
       "      <td>liblinear</td>\n",
       "      <td>1500</td>\n",
       "      <td>0.873902</td>\n",
       "      <td>0.868897</td>\n",
       "      <td>0.835029</td>\n",
       "      <td>0.851626</td>\n",
       "    </tr>\n",
       "    <tr>\n",
       "      <th>5</th>\n",
       "      <td>LogisticRegression</td>\n",
       "      <td>0.1</td>\n",
       "      <td>liblinear</td>\n",
       "      <td>2000</td>\n",
       "      <td>0.873902</td>\n",
       "      <td>0.868897</td>\n",
       "      <td>0.835029</td>\n",
       "      <td>0.851626</td>\n",
       "    </tr>\n",
       "    <tr>\n",
       "      <th>6</th>\n",
       "      <td>LogisticRegression</td>\n",
       "      <td>0.2</td>\n",
       "      <td>lbfgs</td>\n",
       "      <td>1000</td>\n",
       "      <td>0.873870</td>\n",
       "      <td>0.868830</td>\n",
       "      <td>0.835029</td>\n",
       "      <td>0.851594</td>\n",
       "    </tr>\n",
       "    <tr>\n",
       "      <th>7</th>\n",
       "      <td>LogisticRegression</td>\n",
       "      <td>0.2</td>\n",
       "      <td>lbfgs</td>\n",
       "      <td>1500</td>\n",
       "      <td>0.873870</td>\n",
       "      <td>0.868830</td>\n",
       "      <td>0.835029</td>\n",
       "      <td>0.851594</td>\n",
       "    </tr>\n",
       "    <tr>\n",
       "      <th>8</th>\n",
       "      <td>LogisticRegression</td>\n",
       "      <td>0.2</td>\n",
       "      <td>lbfgs</td>\n",
       "      <td>2000</td>\n",
       "      <td>0.873870</td>\n",
       "      <td>0.868830</td>\n",
       "      <td>0.835029</td>\n",
       "      <td>0.851594</td>\n",
       "    </tr>\n",
       "    <tr>\n",
       "      <th>9</th>\n",
       "      <td>LogisticRegression</td>\n",
       "      <td>0.2</td>\n",
       "      <td>liblinear</td>\n",
       "      <td>1000</td>\n",
       "      <td>0.874095</td>\n",
       "      <td>0.869015</td>\n",
       "      <td>0.835400</td>\n",
       "      <td>0.851876</td>\n",
       "    </tr>\n",
       "    <tr>\n",
       "      <th>10</th>\n",
       "      <td>LogisticRegression</td>\n",
       "      <td>0.2</td>\n",
       "      <td>liblinear</td>\n",
       "      <td>1500</td>\n",
       "      <td>0.874095</td>\n",
       "      <td>0.869015</td>\n",
       "      <td>0.835400</td>\n",
       "      <td>0.851876</td>\n",
       "    </tr>\n",
       "    <tr>\n",
       "      <th>11</th>\n",
       "      <td>LogisticRegression</td>\n",
       "      <td>0.2</td>\n",
       "      <td>liblinear</td>\n",
       "      <td>2000</td>\n",
       "      <td>0.874095</td>\n",
       "      <td>0.869015</td>\n",
       "      <td>0.835400</td>\n",
       "      <td>0.851876</td>\n",
       "    </tr>\n",
       "    <tr>\n",
       "      <th>12</th>\n",
       "      <td>LogisticRegression</td>\n",
       "      <td>0.3</td>\n",
       "      <td>lbfgs</td>\n",
       "      <td>1000</td>\n",
       "      <td>0.873805</td>\n",
       "      <td>0.868639</td>\n",
       "      <td>0.835103</td>\n",
       "      <td>0.851541</td>\n",
       "    </tr>\n",
       "    <tr>\n",
       "      <th>13</th>\n",
       "      <td>LogisticRegression</td>\n",
       "      <td>0.3</td>\n",
       "      <td>lbfgs</td>\n",
       "      <td>1500</td>\n",
       "      <td>0.873805</td>\n",
       "      <td>0.868639</td>\n",
       "      <td>0.835103</td>\n",
       "      <td>0.851541</td>\n",
       "    </tr>\n",
       "    <tr>\n",
       "      <th>14</th>\n",
       "      <td>LogisticRegression</td>\n",
       "      <td>0.3</td>\n",
       "      <td>lbfgs</td>\n",
       "      <td>2000</td>\n",
       "      <td>0.873805</td>\n",
       "      <td>0.868639</td>\n",
       "      <td>0.835103</td>\n",
       "      <td>0.851541</td>\n",
       "    </tr>\n",
       "    <tr>\n",
       "      <th>15</th>\n",
       "      <td>LogisticRegression</td>\n",
       "      <td>0.3</td>\n",
       "      <td>liblinear</td>\n",
       "      <td>1000</td>\n",
       "      <td>0.874095</td>\n",
       "      <td>0.869072</td>\n",
       "      <td>0.835326</td>\n",
       "      <td>0.851864</td>\n",
       "    </tr>\n",
       "    <tr>\n",
       "      <th>16</th>\n",
       "      <td>LogisticRegression</td>\n",
       "      <td>0.3</td>\n",
       "      <td>liblinear</td>\n",
       "      <td>1500</td>\n",
       "      <td>0.874095</td>\n",
       "      <td>0.869072</td>\n",
       "      <td>0.835326</td>\n",
       "      <td>0.851864</td>\n",
       "    </tr>\n",
       "    <tr>\n",
       "      <th>17</th>\n",
       "      <td>LogisticRegression</td>\n",
       "      <td>0.3</td>\n",
       "      <td>liblinear</td>\n",
       "      <td>2000</td>\n",
       "      <td>0.874095</td>\n",
       "      <td>0.869072</td>\n",
       "      <td>0.835326</td>\n",
       "      <td>0.851864</td>\n",
       "    </tr>\n",
       "    <tr>\n",
       "      <th>18</th>\n",
       "      <td>LogisticRegression</td>\n",
       "      <td>0.4</td>\n",
       "      <td>lbfgs</td>\n",
       "      <td>1000</td>\n",
       "      <td>0.873773</td>\n",
       "      <td>0.868571</td>\n",
       "      <td>0.835103</td>\n",
       "      <td>0.851508</td>\n",
       "    </tr>\n",
       "    <tr>\n",
       "      <th>19</th>\n",
       "      <td>LogisticRegression</td>\n",
       "      <td>0.4</td>\n",
       "      <td>lbfgs</td>\n",
       "      <td>1500</td>\n",
       "      <td>0.873773</td>\n",
       "      <td>0.868571</td>\n",
       "      <td>0.835103</td>\n",
       "      <td>0.851508</td>\n",
       "    </tr>\n",
       "    <tr>\n",
       "      <th>20</th>\n",
       "      <td>LogisticRegression</td>\n",
       "      <td>0.4</td>\n",
       "      <td>lbfgs</td>\n",
       "      <td>2000</td>\n",
       "      <td>0.873773</td>\n",
       "      <td>0.868571</td>\n",
       "      <td>0.835103</td>\n",
       "      <td>0.851508</td>\n",
       "    </tr>\n",
       "    <tr>\n",
       "      <th>21</th>\n",
       "      <td>LogisticRegression</td>\n",
       "      <td>0.4</td>\n",
       "      <td>liblinear</td>\n",
       "      <td>1000</td>\n",
       "      <td>0.873966</td>\n",
       "      <td>0.868860</td>\n",
       "      <td>0.835251</td>\n",
       "      <td>0.851724</td>\n",
       "    </tr>\n",
       "    <tr>\n",
       "      <th>22</th>\n",
       "      <td>LogisticRegression</td>\n",
       "      <td>0.4</td>\n",
       "      <td>liblinear</td>\n",
       "      <td>1500</td>\n",
       "      <td>0.873966</td>\n",
       "      <td>0.868860</td>\n",
       "      <td>0.835251</td>\n",
       "      <td>0.851724</td>\n",
       "    </tr>\n",
       "    <tr>\n",
       "      <th>23</th>\n",
       "      <td>LogisticRegression</td>\n",
       "      <td>0.4</td>\n",
       "      <td>liblinear</td>\n",
       "      <td>2000</td>\n",
       "      <td>0.873966</td>\n",
       "      <td>0.868860</td>\n",
       "      <td>0.835251</td>\n",
       "      <td>0.851724</td>\n",
       "    </tr>\n",
       "    <tr>\n",
       "      <th>24</th>\n",
       "      <td>LogisticRegression</td>\n",
       "      <td>0.5</td>\n",
       "      <td>lbfgs</td>\n",
       "      <td>1000</td>\n",
       "      <td>0.873773</td>\n",
       "      <td>0.868628</td>\n",
       "      <td>0.835029</td>\n",
       "      <td>0.851497</td>\n",
       "    </tr>\n",
       "    <tr>\n",
       "      <th>25</th>\n",
       "      <td>LogisticRegression</td>\n",
       "      <td>0.5</td>\n",
       "      <td>lbfgs</td>\n",
       "      <td>1500</td>\n",
       "      <td>0.873773</td>\n",
       "      <td>0.868628</td>\n",
       "      <td>0.835029</td>\n",
       "      <td>0.851497</td>\n",
       "    </tr>\n",
       "    <tr>\n",
       "      <th>26</th>\n",
       "      <td>LogisticRegression</td>\n",
       "      <td>0.5</td>\n",
       "      <td>lbfgs</td>\n",
       "      <td>2000</td>\n",
       "      <td>0.873773</td>\n",
       "      <td>0.868628</td>\n",
       "      <td>0.835029</td>\n",
       "      <td>0.851497</td>\n",
       "    </tr>\n",
       "    <tr>\n",
       "      <th>27</th>\n",
       "      <td>LogisticRegression</td>\n",
       "      <td>0.5</td>\n",
       "      <td>liblinear</td>\n",
       "      <td>1000</td>\n",
       "      <td>0.873934</td>\n",
       "      <td>0.868907</td>\n",
       "      <td>0.835103</td>\n",
       "      <td>0.851670</td>\n",
       "    </tr>\n",
       "    <tr>\n",
       "      <th>28</th>\n",
       "      <td>LogisticRegression</td>\n",
       "      <td>0.5</td>\n",
       "      <td>liblinear</td>\n",
       "      <td>1500</td>\n",
       "      <td>0.873934</td>\n",
       "      <td>0.868907</td>\n",
       "      <td>0.835103</td>\n",
       "      <td>0.851670</td>\n",
       "    </tr>\n",
       "    <tr>\n",
       "      <th>29</th>\n",
       "      <td>LogisticRegression</td>\n",
       "      <td>0.5</td>\n",
       "      <td>liblinear</td>\n",
       "      <td>2000</td>\n",
       "      <td>0.873934</td>\n",
       "      <td>0.868907</td>\n",
       "      <td>0.835103</td>\n",
       "      <td>0.851670</td>\n",
       "    </tr>\n",
       "    <tr>\n",
       "      <th>30</th>\n",
       "      <td>LogisticRegression</td>\n",
       "      <td>0.6</td>\n",
       "      <td>lbfgs</td>\n",
       "      <td>1000</td>\n",
       "      <td>0.873902</td>\n",
       "      <td>0.868783</td>\n",
       "      <td>0.835177</td>\n",
       "      <td>0.851649</td>\n",
       "    </tr>\n",
       "    <tr>\n",
       "      <th>31</th>\n",
       "      <td>LogisticRegression</td>\n",
       "      <td>0.6</td>\n",
       "      <td>lbfgs</td>\n",
       "      <td>1500</td>\n",
       "      <td>0.873902</td>\n",
       "      <td>0.868783</td>\n",
       "      <td>0.835177</td>\n",
       "      <td>0.851649</td>\n",
       "    </tr>\n",
       "    <tr>\n",
       "      <th>32</th>\n",
       "      <td>LogisticRegression</td>\n",
       "      <td>0.6</td>\n",
       "      <td>lbfgs</td>\n",
       "      <td>2000</td>\n",
       "      <td>0.873902</td>\n",
       "      <td>0.868783</td>\n",
       "      <td>0.835177</td>\n",
       "      <td>0.851649</td>\n",
       "    </tr>\n",
       "    <tr>\n",
       "      <th>33</th>\n",
       "      <td>LogisticRegression</td>\n",
       "      <td>0.6</td>\n",
       "      <td>liblinear</td>\n",
       "      <td>1000</td>\n",
       "      <td>0.873902</td>\n",
       "      <td>0.868783</td>\n",
       "      <td>0.835177</td>\n",
       "      <td>0.851649</td>\n",
       "    </tr>\n",
       "    <tr>\n",
       "      <th>34</th>\n",
       "      <td>LogisticRegression</td>\n",
       "      <td>0.6</td>\n",
       "      <td>liblinear</td>\n",
       "      <td>1500</td>\n",
       "      <td>0.873902</td>\n",
       "      <td>0.868783</td>\n",
       "      <td>0.835177</td>\n",
       "      <td>0.851649</td>\n",
       "    </tr>\n",
       "    <tr>\n",
       "      <th>35</th>\n",
       "      <td>LogisticRegression</td>\n",
       "      <td>0.6</td>\n",
       "      <td>liblinear</td>\n",
       "      <td>2000</td>\n",
       "      <td>0.873902</td>\n",
       "      <td>0.868783</td>\n",
       "      <td>0.835177</td>\n",
       "      <td>0.851649</td>\n",
       "    </tr>\n",
       "    <tr>\n",
       "      <th>36</th>\n",
       "      <td>LogisticRegression</td>\n",
       "      <td>0.7</td>\n",
       "      <td>lbfgs</td>\n",
       "      <td>1000</td>\n",
       "      <td>0.873870</td>\n",
       "      <td>0.868773</td>\n",
       "      <td>0.835103</td>\n",
       "      <td>0.851605</td>\n",
       "    </tr>\n",
       "    <tr>\n",
       "      <th>37</th>\n",
       "      <td>LogisticRegression</td>\n",
       "      <td>0.7</td>\n",
       "      <td>lbfgs</td>\n",
       "      <td>1500</td>\n",
       "      <td>0.873870</td>\n",
       "      <td>0.868773</td>\n",
       "      <td>0.835103</td>\n",
       "      <td>0.851605</td>\n",
       "    </tr>\n",
       "    <tr>\n",
       "      <th>38</th>\n",
       "      <td>LogisticRegression</td>\n",
       "      <td>0.7</td>\n",
       "      <td>lbfgs</td>\n",
       "      <td>2000</td>\n",
       "      <td>0.873870</td>\n",
       "      <td>0.868773</td>\n",
       "      <td>0.835103</td>\n",
       "      <td>0.851605</td>\n",
       "    </tr>\n",
       "    <tr>\n",
       "      <th>39</th>\n",
       "      <td>LogisticRegression</td>\n",
       "      <td>0.7</td>\n",
       "      <td>liblinear</td>\n",
       "      <td>1000</td>\n",
       "      <td>0.873934</td>\n",
       "      <td>0.868850</td>\n",
       "      <td>0.835177</td>\n",
       "      <td>0.851681</td>\n",
       "    </tr>\n",
       "    <tr>\n",
       "      <th>40</th>\n",
       "      <td>LogisticRegression</td>\n",
       "      <td>0.7</td>\n",
       "      <td>liblinear</td>\n",
       "      <td>1500</td>\n",
       "      <td>0.873934</td>\n",
       "      <td>0.868850</td>\n",
       "      <td>0.835177</td>\n",
       "      <td>0.851681</td>\n",
       "    </tr>\n",
       "    <tr>\n",
       "      <th>41</th>\n",
       "      <td>LogisticRegression</td>\n",
       "      <td>0.7</td>\n",
       "      <td>liblinear</td>\n",
       "      <td>2000</td>\n",
       "      <td>0.873934</td>\n",
       "      <td>0.868850</td>\n",
       "      <td>0.835177</td>\n",
       "      <td>0.851681</td>\n",
       "    </tr>\n",
       "    <tr>\n",
       "      <th>42</th>\n",
       "      <td>LogisticRegression</td>\n",
       "      <td>0.8</td>\n",
       "      <td>lbfgs</td>\n",
       "      <td>1000</td>\n",
       "      <td>0.873966</td>\n",
       "      <td>0.868917</td>\n",
       "      <td>0.835177</td>\n",
       "      <td>0.851713</td>\n",
       "    </tr>\n",
       "    <tr>\n",
       "      <th>43</th>\n",
       "      <td>LogisticRegression</td>\n",
       "      <td>0.8</td>\n",
       "      <td>lbfgs</td>\n",
       "      <td>1500</td>\n",
       "      <td>0.873966</td>\n",
       "      <td>0.868917</td>\n",
       "      <td>0.835177</td>\n",
       "      <td>0.851713</td>\n",
       "    </tr>\n",
       "    <tr>\n",
       "      <th>44</th>\n",
       "      <td>LogisticRegression</td>\n",
       "      <td>0.8</td>\n",
       "      <td>lbfgs</td>\n",
       "      <td>2000</td>\n",
       "      <td>0.873966</td>\n",
       "      <td>0.868917</td>\n",
       "      <td>0.835177</td>\n",
       "      <td>0.851713</td>\n",
       "    </tr>\n",
       "    <tr>\n",
       "      <th>45</th>\n",
       "      <td>LogisticRegression</td>\n",
       "      <td>0.8</td>\n",
       "      <td>liblinear</td>\n",
       "      <td>1000</td>\n",
       "      <td>0.873966</td>\n",
       "      <td>0.868974</td>\n",
       "      <td>0.835103</td>\n",
       "      <td>0.851702</td>\n",
       "    </tr>\n",
       "    <tr>\n",
       "      <th>46</th>\n",
       "      <td>LogisticRegression</td>\n",
       "      <td>0.8</td>\n",
       "      <td>liblinear</td>\n",
       "      <td>1500</td>\n",
       "      <td>0.873966</td>\n",
       "      <td>0.868974</td>\n",
       "      <td>0.835103</td>\n",
       "      <td>0.851702</td>\n",
       "    </tr>\n",
       "    <tr>\n",
       "      <th>47</th>\n",
       "      <td>LogisticRegression</td>\n",
       "      <td>0.8</td>\n",
       "      <td>liblinear</td>\n",
       "      <td>2000</td>\n",
       "      <td>0.873966</td>\n",
       "      <td>0.868974</td>\n",
       "      <td>0.835103</td>\n",
       "      <td>0.851702</td>\n",
       "    </tr>\n",
       "    <tr>\n",
       "      <th>48</th>\n",
       "      <td>LogisticRegression</td>\n",
       "      <td>0.9</td>\n",
       "      <td>lbfgs</td>\n",
       "      <td>1000</td>\n",
       "      <td>0.873934</td>\n",
       "      <td>0.868793</td>\n",
       "      <td>0.835251</td>\n",
       "      <td>0.851692</td>\n",
       "    </tr>\n",
       "    <tr>\n",
       "      <th>49</th>\n",
       "      <td>LogisticRegression</td>\n",
       "      <td>0.9</td>\n",
       "      <td>lbfgs</td>\n",
       "      <td>1500</td>\n",
       "      <td>0.873934</td>\n",
       "      <td>0.868793</td>\n",
       "      <td>0.835251</td>\n",
       "      <td>0.851692</td>\n",
       "    </tr>\n",
       "    <tr>\n",
       "      <th>50</th>\n",
       "      <td>LogisticRegression</td>\n",
       "      <td>0.9</td>\n",
       "      <td>lbfgs</td>\n",
       "      <td>2000</td>\n",
       "      <td>0.873934</td>\n",
       "      <td>0.868793</td>\n",
       "      <td>0.835251</td>\n",
       "      <td>0.851692</td>\n",
       "    </tr>\n",
       "    <tr>\n",
       "      <th>51</th>\n",
       "      <td>LogisticRegression</td>\n",
       "      <td>0.9</td>\n",
       "      <td>liblinear</td>\n",
       "      <td>1000</td>\n",
       "      <td>0.873966</td>\n",
       "      <td>0.868917</td>\n",
       "      <td>0.835177</td>\n",
       "      <td>0.851713</td>\n",
       "    </tr>\n",
       "    <tr>\n",
       "      <th>52</th>\n",
       "      <td>LogisticRegression</td>\n",
       "      <td>0.9</td>\n",
       "      <td>liblinear</td>\n",
       "      <td>1500</td>\n",
       "      <td>0.873966</td>\n",
       "      <td>0.868917</td>\n",
       "      <td>0.835177</td>\n",
       "      <td>0.851713</td>\n",
       "    </tr>\n",
       "    <tr>\n",
       "      <th>53</th>\n",
       "      <td>LogisticRegression</td>\n",
       "      <td>0.9</td>\n",
       "      <td>liblinear</td>\n",
       "      <td>2000</td>\n",
       "      <td>0.873966</td>\n",
       "      <td>0.868917</td>\n",
       "      <td>0.835177</td>\n",
       "      <td>0.851713</td>\n",
       "    </tr>\n",
       "    <tr>\n",
       "      <th>54</th>\n",
       "      <td>LogisticRegression</td>\n",
       "      <td>1.0</td>\n",
       "      <td>lbfgs</td>\n",
       "      <td>1000</td>\n",
       "      <td>0.873934</td>\n",
       "      <td>0.868850</td>\n",
       "      <td>0.835177</td>\n",
       "      <td>0.851681</td>\n",
       "    </tr>\n",
       "    <tr>\n",
       "      <th>55</th>\n",
       "      <td>LogisticRegression</td>\n",
       "      <td>1.0</td>\n",
       "      <td>lbfgs</td>\n",
       "      <td>1500</td>\n",
       "      <td>0.873934</td>\n",
       "      <td>0.868850</td>\n",
       "      <td>0.835177</td>\n",
       "      <td>0.851681</td>\n",
       "    </tr>\n",
       "    <tr>\n",
       "      <th>56</th>\n",
       "      <td>LogisticRegression</td>\n",
       "      <td>1.0</td>\n",
       "      <td>lbfgs</td>\n",
       "      <td>2000</td>\n",
       "      <td>0.873934</td>\n",
       "      <td>0.868850</td>\n",
       "      <td>0.835177</td>\n",
       "      <td>0.851681</td>\n",
       "    </tr>\n",
       "    <tr>\n",
       "      <th>57</th>\n",
       "      <td>LogisticRegression</td>\n",
       "      <td>1.0</td>\n",
       "      <td>liblinear</td>\n",
       "      <td>1000</td>\n",
       "      <td>0.873902</td>\n",
       "      <td>0.868783</td>\n",
       "      <td>0.835177</td>\n",
       "      <td>0.851649</td>\n",
       "    </tr>\n",
       "    <tr>\n",
       "      <th>58</th>\n",
       "      <td>LogisticRegression</td>\n",
       "      <td>1.0</td>\n",
       "      <td>liblinear</td>\n",
       "      <td>1500</td>\n",
       "      <td>0.873902</td>\n",
       "      <td>0.868783</td>\n",
       "      <td>0.835177</td>\n",
       "      <td>0.851649</td>\n",
       "    </tr>\n",
       "    <tr>\n",
       "      <th>59</th>\n",
       "      <td>LogisticRegression</td>\n",
       "      <td>1.0</td>\n",
       "      <td>liblinear</td>\n",
       "      <td>2000</td>\n",
       "      <td>0.873902</td>\n",
       "      <td>0.868783</td>\n",
       "      <td>0.835177</td>\n",
       "      <td>0.851649</td>\n",
       "    </tr>\n",
       "  </tbody>\n",
       "</table>\n",
       "</div>"
      ],
      "text/plain": [
       "                  name    C     solver  max_iter  accuracy  precision  \\\n",
       "0   LogisticRegression  0.1      lbfgs      1000  0.873999   0.869327   \n",
       "1   LogisticRegression  0.1      lbfgs      1500  0.873999   0.869327   \n",
       "2   LogisticRegression  0.1      lbfgs      2000  0.873999   0.869327   \n",
       "3   LogisticRegression  0.1  liblinear      1000  0.873902   0.868897   \n",
       "4   LogisticRegression  0.1  liblinear      1500  0.873902   0.868897   \n",
       "5   LogisticRegression  0.1  liblinear      2000  0.873902   0.868897   \n",
       "6   LogisticRegression  0.2      lbfgs      1000  0.873870   0.868830   \n",
       "7   LogisticRegression  0.2      lbfgs      1500  0.873870   0.868830   \n",
       "8   LogisticRegression  0.2      lbfgs      2000  0.873870   0.868830   \n",
       "9   LogisticRegression  0.2  liblinear      1000  0.874095   0.869015   \n",
       "10  LogisticRegression  0.2  liblinear      1500  0.874095   0.869015   \n",
       "11  LogisticRegression  0.2  liblinear      2000  0.874095   0.869015   \n",
       "12  LogisticRegression  0.3      lbfgs      1000  0.873805   0.868639   \n",
       "13  LogisticRegression  0.3      lbfgs      1500  0.873805   0.868639   \n",
       "14  LogisticRegression  0.3      lbfgs      2000  0.873805   0.868639   \n",
       "15  LogisticRegression  0.3  liblinear      1000  0.874095   0.869072   \n",
       "16  LogisticRegression  0.3  liblinear      1500  0.874095   0.869072   \n",
       "17  LogisticRegression  0.3  liblinear      2000  0.874095   0.869072   \n",
       "18  LogisticRegression  0.4      lbfgs      1000  0.873773   0.868571   \n",
       "19  LogisticRegression  0.4      lbfgs      1500  0.873773   0.868571   \n",
       "20  LogisticRegression  0.4      lbfgs      2000  0.873773   0.868571   \n",
       "21  LogisticRegression  0.4  liblinear      1000  0.873966   0.868860   \n",
       "22  LogisticRegression  0.4  liblinear      1500  0.873966   0.868860   \n",
       "23  LogisticRegression  0.4  liblinear      2000  0.873966   0.868860   \n",
       "24  LogisticRegression  0.5      lbfgs      1000  0.873773   0.868628   \n",
       "25  LogisticRegression  0.5      lbfgs      1500  0.873773   0.868628   \n",
       "26  LogisticRegression  0.5      lbfgs      2000  0.873773   0.868628   \n",
       "27  LogisticRegression  0.5  liblinear      1000  0.873934   0.868907   \n",
       "28  LogisticRegression  0.5  liblinear      1500  0.873934   0.868907   \n",
       "29  LogisticRegression  0.5  liblinear      2000  0.873934   0.868907   \n",
       "30  LogisticRegression  0.6      lbfgs      1000  0.873902   0.868783   \n",
       "31  LogisticRegression  0.6      lbfgs      1500  0.873902   0.868783   \n",
       "32  LogisticRegression  0.6      lbfgs      2000  0.873902   0.868783   \n",
       "33  LogisticRegression  0.6  liblinear      1000  0.873902   0.868783   \n",
       "34  LogisticRegression  0.6  liblinear      1500  0.873902   0.868783   \n",
       "35  LogisticRegression  0.6  liblinear      2000  0.873902   0.868783   \n",
       "36  LogisticRegression  0.7      lbfgs      1000  0.873870   0.868773   \n",
       "37  LogisticRegression  0.7      lbfgs      1500  0.873870   0.868773   \n",
       "38  LogisticRegression  0.7      lbfgs      2000  0.873870   0.868773   \n",
       "39  LogisticRegression  0.7  liblinear      1000  0.873934   0.868850   \n",
       "40  LogisticRegression  0.7  liblinear      1500  0.873934   0.868850   \n",
       "41  LogisticRegression  0.7  liblinear      2000  0.873934   0.868850   \n",
       "42  LogisticRegression  0.8      lbfgs      1000  0.873966   0.868917   \n",
       "43  LogisticRegression  0.8      lbfgs      1500  0.873966   0.868917   \n",
       "44  LogisticRegression  0.8      lbfgs      2000  0.873966   0.868917   \n",
       "45  LogisticRegression  0.8  liblinear      1000  0.873966   0.868974   \n",
       "46  LogisticRegression  0.8  liblinear      1500  0.873966   0.868974   \n",
       "47  LogisticRegression  0.8  liblinear      2000  0.873966   0.868974   \n",
       "48  LogisticRegression  0.9      lbfgs      1000  0.873934   0.868793   \n",
       "49  LogisticRegression  0.9      lbfgs      1500  0.873934   0.868793   \n",
       "50  LogisticRegression  0.9      lbfgs      2000  0.873934   0.868793   \n",
       "51  LogisticRegression  0.9  liblinear      1000  0.873966   0.868917   \n",
       "52  LogisticRegression  0.9  liblinear      1500  0.873966   0.868917   \n",
       "53  LogisticRegression  0.9  liblinear      2000  0.873966   0.868917   \n",
       "54  LogisticRegression  1.0      lbfgs      1000  0.873934   0.868850   \n",
       "55  LogisticRegression  1.0      lbfgs      1500  0.873934   0.868850   \n",
       "56  LogisticRegression  1.0      lbfgs      2000  0.873934   0.868850   \n",
       "57  LogisticRegression  1.0  liblinear      1000  0.873902   0.868783   \n",
       "58  LogisticRegression  1.0  liblinear      1500  0.873902   0.868783   \n",
       "59  LogisticRegression  1.0  liblinear      2000  0.873902   0.868783   \n",
       "\n",
       "      recall   f1score  \n",
       "0   0.834732  0.851678  \n",
       "1   0.834732  0.851678  \n",
       "2   0.834732  0.851678  \n",
       "3   0.835029  0.851626  \n",
       "4   0.835029  0.851626  \n",
       "5   0.835029  0.851626  \n",
       "6   0.835029  0.851594  \n",
       "7   0.835029  0.851594  \n",
       "8   0.835029  0.851594  \n",
       "9   0.835400  0.851876  \n",
       "10  0.835400  0.851876  \n",
       "11  0.835400  0.851876  \n",
       "12  0.835103  0.851541  \n",
       "13  0.835103  0.851541  \n",
       "14  0.835103  0.851541  \n",
       "15  0.835326  0.851864  \n",
       "16  0.835326  0.851864  \n",
       "17  0.835326  0.851864  \n",
       "18  0.835103  0.851508  \n",
       "19  0.835103  0.851508  \n",
       "20  0.835103  0.851508  \n",
       "21  0.835251  0.851724  \n",
       "22  0.835251  0.851724  \n",
       "23  0.835251  0.851724  \n",
       "24  0.835029  0.851497  \n",
       "25  0.835029  0.851497  \n",
       "26  0.835029  0.851497  \n",
       "27  0.835103  0.851670  \n",
       "28  0.835103  0.851670  \n",
       "29  0.835103  0.851670  \n",
       "30  0.835177  0.851649  \n",
       "31  0.835177  0.851649  \n",
       "32  0.835177  0.851649  \n",
       "33  0.835177  0.851649  \n",
       "34  0.835177  0.851649  \n",
       "35  0.835177  0.851649  \n",
       "36  0.835103  0.851605  \n",
       "37  0.835103  0.851605  \n",
       "38  0.835103  0.851605  \n",
       "39  0.835177  0.851681  \n",
       "40  0.835177  0.851681  \n",
       "41  0.835177  0.851681  \n",
       "42  0.835177  0.851713  \n",
       "43  0.835177  0.851713  \n",
       "44  0.835177  0.851713  \n",
       "45  0.835103  0.851702  \n",
       "46  0.835103  0.851702  \n",
       "47  0.835103  0.851702  \n",
       "48  0.835251  0.851692  \n",
       "49  0.835251  0.851692  \n",
       "50  0.835251  0.851692  \n",
       "51  0.835177  0.851713  \n",
       "52  0.835177  0.851713  \n",
       "53  0.835177  0.851713  \n",
       "54  0.835177  0.851681  \n",
       "55  0.835177  0.851681  \n",
       "56  0.835177  0.851681  \n",
       "57  0.835177  0.851649  \n",
       "58  0.835177  0.851649  \n",
       "59  0.835177  0.851649  "
      ]
     },
     "execution_count": 65,
     "metadata": {},
     "output_type": "execute_result"
    }
   ],
   "source": [
    "# lr_scores.to_csv('output/classification/logistic_regression.csv', index=False)\n",
    "lr_scores = pd.read_csv('output/classification/logistic_regression.csv')\n",
    "\n",
    "lr_scores"
   ]
  },
  {
   "cell_type": "code",
   "execution_count": 66,
   "id": "cc817838",
   "metadata": {
    "ExecuteTime": {
     "end_time": "2023-10-30T20:04:43.565934Z",
     "start_time": "2023-10-30T20:04:43.534328Z"
    },
    "hidden": true
   },
   "outputs": [
    {
     "data": {
      "text/html": [
       "<div>\n",
       "<style scoped>\n",
       "    .dataframe tbody tr th:only-of-type {\n",
       "        vertical-align: middle;\n",
       "    }\n",
       "\n",
       "    .dataframe tbody tr th {\n",
       "        vertical-align: top;\n",
       "    }\n",
       "\n",
       "    .dataframe thead tr th {\n",
       "        text-align: left;\n",
       "    }\n",
       "\n",
       "    .dataframe thead tr:last-of-type th {\n",
       "        text-align: right;\n",
       "    }\n",
       "</style>\n",
       "<table border=\"1\" class=\"dataframe\">\n",
       "  <thead>\n",
       "    <tr>\n",
       "      <th></th>\n",
       "      <th colspan=\"6\" halign=\"left\">accuracy</th>\n",
       "      <th colspan=\"4\" halign=\"left\">precision</th>\n",
       "      <th>...</th>\n",
       "      <th colspan=\"4\" halign=\"left\">recall</th>\n",
       "      <th colspan=\"6\" halign=\"left\">f1score</th>\n",
       "    </tr>\n",
       "    <tr>\n",
       "      <th>solver</th>\n",
       "      <th colspan=\"3\" halign=\"left\">lbfgs</th>\n",
       "      <th colspan=\"3\" halign=\"left\">liblinear</th>\n",
       "      <th colspan=\"3\" halign=\"left\">lbfgs</th>\n",
       "      <th>liblinear</th>\n",
       "      <th>...</th>\n",
       "      <th>lbfgs</th>\n",
       "      <th colspan=\"3\" halign=\"left\">liblinear</th>\n",
       "      <th colspan=\"3\" halign=\"left\">lbfgs</th>\n",
       "      <th colspan=\"3\" halign=\"left\">liblinear</th>\n",
       "    </tr>\n",
       "    <tr>\n",
       "      <th>max_iter</th>\n",
       "      <th>1000</th>\n",
       "      <th>1500</th>\n",
       "      <th>2000</th>\n",
       "      <th>1000</th>\n",
       "      <th>1500</th>\n",
       "      <th>2000</th>\n",
       "      <th>1000</th>\n",
       "      <th>1500</th>\n",
       "      <th>2000</th>\n",
       "      <th>1000</th>\n",
       "      <th>...</th>\n",
       "      <th>2000</th>\n",
       "      <th>1000</th>\n",
       "      <th>1500</th>\n",
       "      <th>2000</th>\n",
       "      <th>1000</th>\n",
       "      <th>1500</th>\n",
       "      <th>2000</th>\n",
       "      <th>1000</th>\n",
       "      <th>1500</th>\n",
       "      <th>2000</th>\n",
       "    </tr>\n",
       "    <tr>\n",
       "      <th>C</th>\n",
       "      <th></th>\n",
       "      <th></th>\n",
       "      <th></th>\n",
       "      <th></th>\n",
       "      <th></th>\n",
       "      <th></th>\n",
       "      <th></th>\n",
       "      <th></th>\n",
       "      <th></th>\n",
       "      <th></th>\n",
       "      <th></th>\n",
       "      <th></th>\n",
       "      <th></th>\n",
       "      <th></th>\n",
       "      <th></th>\n",
       "      <th></th>\n",
       "      <th></th>\n",
       "      <th></th>\n",
       "      <th></th>\n",
       "      <th></th>\n",
       "      <th></th>\n",
       "    </tr>\n",
       "  </thead>\n",
       "  <tbody>\n",
       "    <tr>\n",
       "      <th>0.1</th>\n",
       "      <td>0.873999</td>\n",
       "      <td>0.873999</td>\n",
       "      <td>0.873999</td>\n",
       "      <td>0.873902</td>\n",
       "      <td>0.873902</td>\n",
       "      <td>0.873902</td>\n",
       "      <td>0.869327</td>\n",
       "      <td>0.869327</td>\n",
       "      <td>0.869327</td>\n",
       "      <td>0.868897</td>\n",
       "      <td>...</td>\n",
       "      <td>0.834732</td>\n",
       "      <td>0.835029</td>\n",
       "      <td>0.835029</td>\n",
       "      <td>0.835029</td>\n",
       "      <td>0.851678</td>\n",
       "      <td>0.851678</td>\n",
       "      <td>0.851678</td>\n",
       "      <td>0.851626</td>\n",
       "      <td>0.851626</td>\n",
       "      <td>0.851626</td>\n",
       "    </tr>\n",
       "    <tr>\n",
       "      <th>0.2</th>\n",
       "      <td>0.873870</td>\n",
       "      <td>0.873870</td>\n",
       "      <td>0.873870</td>\n",
       "      <td>0.874095</td>\n",
       "      <td>0.874095</td>\n",
       "      <td>0.874095</td>\n",
       "      <td>0.868830</td>\n",
       "      <td>0.868830</td>\n",
       "      <td>0.868830</td>\n",
       "      <td>0.869015</td>\n",
       "      <td>...</td>\n",
       "      <td>0.835029</td>\n",
       "      <td>0.835400</td>\n",
       "      <td>0.835400</td>\n",
       "      <td>0.835400</td>\n",
       "      <td>0.851594</td>\n",
       "      <td>0.851594</td>\n",
       "      <td>0.851594</td>\n",
       "      <td>0.851876</td>\n",
       "      <td>0.851876</td>\n",
       "      <td>0.851876</td>\n",
       "    </tr>\n",
       "    <tr>\n",
       "      <th>0.3</th>\n",
       "      <td>0.873805</td>\n",
       "      <td>0.873805</td>\n",
       "      <td>0.873805</td>\n",
       "      <td>0.874095</td>\n",
       "      <td>0.874095</td>\n",
       "      <td>0.874095</td>\n",
       "      <td>0.868639</td>\n",
       "      <td>0.868639</td>\n",
       "      <td>0.868639</td>\n",
       "      <td>0.869072</td>\n",
       "      <td>...</td>\n",
       "      <td>0.835103</td>\n",
       "      <td>0.835326</td>\n",
       "      <td>0.835326</td>\n",
       "      <td>0.835326</td>\n",
       "      <td>0.851541</td>\n",
       "      <td>0.851541</td>\n",
       "      <td>0.851541</td>\n",
       "      <td>0.851864</td>\n",
       "      <td>0.851864</td>\n",
       "      <td>0.851864</td>\n",
       "    </tr>\n",
       "    <tr>\n",
       "      <th>0.4</th>\n",
       "      <td>0.873773</td>\n",
       "      <td>0.873773</td>\n",
       "      <td>0.873773</td>\n",
       "      <td>0.873966</td>\n",
       "      <td>0.873966</td>\n",
       "      <td>0.873966</td>\n",
       "      <td>0.868571</td>\n",
       "      <td>0.868571</td>\n",
       "      <td>0.868571</td>\n",
       "      <td>0.868860</td>\n",
       "      <td>...</td>\n",
       "      <td>0.835103</td>\n",
       "      <td>0.835251</td>\n",
       "      <td>0.835251</td>\n",
       "      <td>0.835251</td>\n",
       "      <td>0.851508</td>\n",
       "      <td>0.851508</td>\n",
       "      <td>0.851508</td>\n",
       "      <td>0.851724</td>\n",
       "      <td>0.851724</td>\n",
       "      <td>0.851724</td>\n",
       "    </tr>\n",
       "    <tr>\n",
       "      <th>0.5</th>\n",
       "      <td>0.873773</td>\n",
       "      <td>0.873773</td>\n",
       "      <td>0.873773</td>\n",
       "      <td>0.873934</td>\n",
       "      <td>0.873934</td>\n",
       "      <td>0.873934</td>\n",
       "      <td>0.868628</td>\n",
       "      <td>0.868628</td>\n",
       "      <td>0.868628</td>\n",
       "      <td>0.868907</td>\n",
       "      <td>...</td>\n",
       "      <td>0.835029</td>\n",
       "      <td>0.835103</td>\n",
       "      <td>0.835103</td>\n",
       "      <td>0.835103</td>\n",
       "      <td>0.851497</td>\n",
       "      <td>0.851497</td>\n",
       "      <td>0.851497</td>\n",
       "      <td>0.851670</td>\n",
       "      <td>0.851670</td>\n",
       "      <td>0.851670</td>\n",
       "    </tr>\n",
       "    <tr>\n",
       "      <th>0.6</th>\n",
       "      <td>0.873902</td>\n",
       "      <td>0.873902</td>\n",
       "      <td>0.873902</td>\n",
       "      <td>0.873902</td>\n",
       "      <td>0.873902</td>\n",
       "      <td>0.873902</td>\n",
       "      <td>0.868783</td>\n",
       "      <td>0.868783</td>\n",
       "      <td>0.868783</td>\n",
       "      <td>0.868783</td>\n",
       "      <td>...</td>\n",
       "      <td>0.835177</td>\n",
       "      <td>0.835177</td>\n",
       "      <td>0.835177</td>\n",
       "      <td>0.835177</td>\n",
       "      <td>0.851649</td>\n",
       "      <td>0.851649</td>\n",
       "      <td>0.851649</td>\n",
       "      <td>0.851649</td>\n",
       "      <td>0.851649</td>\n",
       "      <td>0.851649</td>\n",
       "    </tr>\n",
       "    <tr>\n",
       "      <th>0.7</th>\n",
       "      <td>0.873870</td>\n",
       "      <td>0.873870</td>\n",
       "      <td>0.873870</td>\n",
       "      <td>0.873934</td>\n",
       "      <td>0.873934</td>\n",
       "      <td>0.873934</td>\n",
       "      <td>0.868773</td>\n",
       "      <td>0.868773</td>\n",
       "      <td>0.868773</td>\n",
       "      <td>0.868850</td>\n",
       "      <td>...</td>\n",
       "      <td>0.835103</td>\n",
       "      <td>0.835177</td>\n",
       "      <td>0.835177</td>\n",
       "      <td>0.835177</td>\n",
       "      <td>0.851605</td>\n",
       "      <td>0.851605</td>\n",
       "      <td>0.851605</td>\n",
       "      <td>0.851681</td>\n",
       "      <td>0.851681</td>\n",
       "      <td>0.851681</td>\n",
       "    </tr>\n",
       "    <tr>\n",
       "      <th>0.8</th>\n",
       "      <td>0.873966</td>\n",
       "      <td>0.873966</td>\n",
       "      <td>0.873966</td>\n",
       "      <td>0.873966</td>\n",
       "      <td>0.873966</td>\n",
       "      <td>0.873966</td>\n",
       "      <td>0.868917</td>\n",
       "      <td>0.868917</td>\n",
       "      <td>0.868917</td>\n",
       "      <td>0.868974</td>\n",
       "      <td>...</td>\n",
       "      <td>0.835177</td>\n",
       "      <td>0.835103</td>\n",
       "      <td>0.835103</td>\n",
       "      <td>0.835103</td>\n",
       "      <td>0.851713</td>\n",
       "      <td>0.851713</td>\n",
       "      <td>0.851713</td>\n",
       "      <td>0.851702</td>\n",
       "      <td>0.851702</td>\n",
       "      <td>0.851702</td>\n",
       "    </tr>\n",
       "    <tr>\n",
       "      <th>0.9</th>\n",
       "      <td>0.873934</td>\n",
       "      <td>0.873934</td>\n",
       "      <td>0.873934</td>\n",
       "      <td>0.873966</td>\n",
       "      <td>0.873966</td>\n",
       "      <td>0.873966</td>\n",
       "      <td>0.868793</td>\n",
       "      <td>0.868793</td>\n",
       "      <td>0.868793</td>\n",
       "      <td>0.868917</td>\n",
       "      <td>...</td>\n",
       "      <td>0.835251</td>\n",
       "      <td>0.835177</td>\n",
       "      <td>0.835177</td>\n",
       "      <td>0.835177</td>\n",
       "      <td>0.851692</td>\n",
       "      <td>0.851692</td>\n",
       "      <td>0.851692</td>\n",
       "      <td>0.851713</td>\n",
       "      <td>0.851713</td>\n",
       "      <td>0.851713</td>\n",
       "    </tr>\n",
       "    <tr>\n",
       "      <th>1.0</th>\n",
       "      <td>0.873934</td>\n",
       "      <td>0.873934</td>\n",
       "      <td>0.873934</td>\n",
       "      <td>0.873902</td>\n",
       "      <td>0.873902</td>\n",
       "      <td>0.873902</td>\n",
       "      <td>0.868850</td>\n",
       "      <td>0.868850</td>\n",
       "      <td>0.868850</td>\n",
       "      <td>0.868783</td>\n",
       "      <td>...</td>\n",
       "      <td>0.835177</td>\n",
       "      <td>0.835177</td>\n",
       "      <td>0.835177</td>\n",
       "      <td>0.835177</td>\n",
       "      <td>0.851681</td>\n",
       "      <td>0.851681</td>\n",
       "      <td>0.851681</td>\n",
       "      <td>0.851649</td>\n",
       "      <td>0.851649</td>\n",
       "      <td>0.851649</td>\n",
       "    </tr>\n",
       "  </tbody>\n",
       "</table>\n",
       "<p>10 rows × 24 columns</p>\n",
       "</div>"
      ],
      "text/plain": [
       "          accuracy                                                    \\\n",
       "solver       lbfgs                     liblinear                       \n",
       "max_iter      1000      1500      2000      1000      1500      2000   \n",
       "C                                                                      \n",
       "0.1       0.873999  0.873999  0.873999  0.873902  0.873902  0.873902   \n",
       "0.2       0.873870  0.873870  0.873870  0.874095  0.874095  0.874095   \n",
       "0.3       0.873805  0.873805  0.873805  0.874095  0.874095  0.874095   \n",
       "0.4       0.873773  0.873773  0.873773  0.873966  0.873966  0.873966   \n",
       "0.5       0.873773  0.873773  0.873773  0.873934  0.873934  0.873934   \n",
       "0.6       0.873902  0.873902  0.873902  0.873902  0.873902  0.873902   \n",
       "0.7       0.873870  0.873870  0.873870  0.873934  0.873934  0.873934   \n",
       "0.8       0.873966  0.873966  0.873966  0.873966  0.873966  0.873966   \n",
       "0.9       0.873934  0.873934  0.873934  0.873966  0.873966  0.873966   \n",
       "1.0       0.873934  0.873934  0.873934  0.873902  0.873902  0.873902   \n",
       "\n",
       "         precision                                ...    recall            \\\n",
       "solver       lbfgs                     liblinear  ...     lbfgs liblinear   \n",
       "max_iter      1000      1500      2000      1000  ...      2000      1000   \n",
       "C                                                 ...                       \n",
       "0.1       0.869327  0.869327  0.869327  0.868897  ...  0.834732  0.835029   \n",
       "0.2       0.868830  0.868830  0.868830  0.869015  ...  0.835029  0.835400   \n",
       "0.3       0.868639  0.868639  0.868639  0.869072  ...  0.835103  0.835326   \n",
       "0.4       0.868571  0.868571  0.868571  0.868860  ...  0.835103  0.835251   \n",
       "0.5       0.868628  0.868628  0.868628  0.868907  ...  0.835029  0.835103   \n",
       "0.6       0.868783  0.868783  0.868783  0.868783  ...  0.835177  0.835177   \n",
       "0.7       0.868773  0.868773  0.868773  0.868850  ...  0.835103  0.835177   \n",
       "0.8       0.868917  0.868917  0.868917  0.868974  ...  0.835177  0.835103   \n",
       "0.9       0.868793  0.868793  0.868793  0.868917  ...  0.835251  0.835177   \n",
       "1.0       0.868850  0.868850  0.868850  0.868783  ...  0.835177  0.835177   \n",
       "\n",
       "                               f1score                                \\\n",
       "solver                           lbfgs                     liblinear   \n",
       "max_iter      1500      2000      1000      1500      2000      1000   \n",
       "C                                                                      \n",
       "0.1       0.835029  0.835029  0.851678  0.851678  0.851678  0.851626   \n",
       "0.2       0.835400  0.835400  0.851594  0.851594  0.851594  0.851876   \n",
       "0.3       0.835326  0.835326  0.851541  0.851541  0.851541  0.851864   \n",
       "0.4       0.835251  0.835251  0.851508  0.851508  0.851508  0.851724   \n",
       "0.5       0.835103  0.835103  0.851497  0.851497  0.851497  0.851670   \n",
       "0.6       0.835177  0.835177  0.851649  0.851649  0.851649  0.851649   \n",
       "0.7       0.835177  0.835177  0.851605  0.851605  0.851605  0.851681   \n",
       "0.8       0.835103  0.835103  0.851713  0.851713  0.851713  0.851702   \n",
       "0.9       0.835177  0.835177  0.851692  0.851692  0.851692  0.851713   \n",
       "1.0       0.835177  0.835177  0.851681  0.851681  0.851681  0.851649   \n",
       "\n",
       "                              \n",
       "solver                        \n",
       "max_iter      1500      2000  \n",
       "C                             \n",
       "0.1       0.851626  0.851626  \n",
       "0.2       0.851876  0.851876  \n",
       "0.3       0.851864  0.851864  \n",
       "0.4       0.851724  0.851724  \n",
       "0.5       0.851670  0.851670  \n",
       "0.6       0.851649  0.851649  \n",
       "0.7       0.851681  0.851681  \n",
       "0.8       0.851702  0.851702  \n",
       "0.9       0.851713  0.851713  \n",
       "1.0       0.851649  0.851649  \n",
       "\n",
       "[10 rows x 24 columns]"
      ]
     },
     "execution_count": 66,
     "metadata": {},
     "output_type": "execute_result"
    }
   ],
   "source": [
    "aux_lr_df = lr_scores.groupby(['C', 'solver', 'max_iter'], as_index=False).mean(numeric_only=True).pivot(index='C', columns=['solver', 'max_iter'])\n",
    "aux_lr_df"
   ]
  },
  {
   "cell_type": "code",
   "execution_count": 67,
   "id": "67be7f73",
   "metadata": {
    "ExecuteTime": {
     "end_time": "2023-10-30T20:04:48.221188Z",
     "start_time": "2023-10-30T20:04:47.426932Z"
    },
    "hidden": true
   },
   "outputs": [
    {
     "data": {
      "image/png": "[encoded data removed]",
      "text/plain": [
       "<Figure size 1000x600 with 6 Axes>"
      ]
     },
     "metadata": {},
     "output_type": "display_data"
    }
   ],
   "source": [
    "aux_lr_df.loc[:, 'accuracy'].plot(subplots=True, layout=(2,3), sharey=True, figsize=(10, 6), style='o-');\n",
    "plt.tight_layout()"
   ]
  },
  {
   "cell_type": "code",
   "execution_count": 68,
   "id": "2316948c",
   "metadata": {
    "ExecuteTime": {
     "end_time": "2023-10-30T20:05:05.191916Z",
     "start_time": "2023-10-30T20:05:05.184555Z"
    },
    "hidden": true
   },
   "outputs": [
    {
     "data": {
      "text/plain": [
       "name         LogisticRegression\n",
       "C                           0.2\n",
       "solver                liblinear\n",
       "max_iter                   1000\n",
       "accuracy               0.874095\n",
       "precision              0.869015\n",
       "recall                   0.8354\n",
       "f1score                0.851876\n",
       "Name: 9, dtype: object"
      ]
     },
     "execution_count": 68,
     "metadata": {},
     "output_type": "execute_result"
    }
   ],
   "source": [
    "lr_max_accuracy = lr_scores.loc[lr_scores['accuracy'].idxmax()]\n",
    "lr_max_accuracy"
   ]
  },
  {
   "cell_type": "markdown",
   "id": "c73450fb",
   "metadata": {
    "heading_collapsed": true,
    "hidden": true
   },
   "source": [
    "### 1.4.2 Performance"
   ]
  },
  {
   "cell_type": "code",
   "execution_count": 69,
   "id": "69be3e61",
   "metadata": {
    "ExecuteTime": {
     "end_time": "2023-10-30T20:05:51.484250Z",
     "start_time": "2023-10-30T20:05:51.085250Z"
    },
    "hidden": true
   },
   "outputs": [
    {
     "data": {
      "text/html": [
       "<style>#sk-container-id-4 {color: black;background-color: white;}#sk-container-id-4 pre{padding: 0;}#sk-container-id-4 div.sk-toggleable {background-color: white;}#sk-container-id-4 label.sk-toggleable__label {cursor: pointer;display: block;width: 100%;margin-bottom: 0;padding: 0.3em;box-sizing: border-box;text-align: center;}#sk-container-id-4 label.sk-toggleable__label-arrow:before {content: \"▸\";float: left;margin-right: 0.25em;color: #696969;}#sk-container-id-4 label.sk-toggleable__label-arrow:hover:before {color: black;}#sk-container-id-4 div.sk-estimator:hover label.sk-toggleable__label-arrow:before {color: black;}#sk-container-id-4 div.sk-toggleable__content {max-height: 0;max-width: 0;overflow: hidden;text-align: left;background-color: #f0f8ff;}#sk-container-id-4 div.sk-toggleable__content pre {margin: 0.2em;color: black;border-radius: 0.25em;background-color: #f0f8ff;}#sk-container-id-4 input.sk-toggleable__control:checked~div.sk-toggleable__content {max-height: 200px;max-width: 100%;overflow: auto;}#sk-container-id-4 input.sk-toggleable__control:checked~label.sk-toggleable__label-arrow:before {content: \"▾\";}#sk-container-id-4 div.sk-estimator input.sk-toggleable__control:checked~label.sk-toggleable__label {background-color: #d4ebff;}#sk-container-id-4 div.sk-label input.sk-toggleable__control:checked~label.sk-toggleable__label {background-color: #d4ebff;}#sk-container-id-4 input.sk-hidden--visually {border: 0;clip: rect(1px 1px 1px 1px);clip: rect(1px, 1px, 1px, 1px);height: 1px;margin: -1px;overflow: hidden;padding: 0;position: absolute;width: 1px;}#sk-container-id-4 div.sk-estimator {font-family: monospace;background-color: #f0f8ff;border: 1px dotted black;border-radius: 0.25em;box-sizing: border-box;margin-bottom: 0.5em;}#sk-container-id-4 div.sk-estimator:hover {background-color: #d4ebff;}#sk-container-id-4 div.sk-parallel-item::after {content: \"\";width: 100%;border-bottom: 1px solid gray;flex-grow: 1;}#sk-container-id-4 div.sk-label:hover label.sk-toggleable__label {background-color: #d4ebff;}#sk-container-id-4 div.sk-serial::before {content: \"\";position: absolute;border-left: 1px solid gray;box-sizing: border-box;top: 0;bottom: 0;left: 50%;z-index: 0;}#sk-container-id-4 div.sk-serial {display: flex;flex-direction: column;align-items: center;background-color: white;padding-right: 0.2em;padding-left: 0.2em;position: relative;}#sk-container-id-4 div.sk-item {position: relative;z-index: 1;}#sk-container-id-4 div.sk-parallel {display: flex;align-items: stretch;justify-content: center;background-color: white;position: relative;}#sk-container-id-4 div.sk-item::before, #sk-container-id-4 div.sk-parallel-item::before {content: \"\";position: absolute;border-left: 1px solid gray;box-sizing: border-box;top: 0;bottom: 0;left: 50%;z-index: -1;}#sk-container-id-4 div.sk-parallel-item {display: flex;flex-direction: column;z-index: 1;position: relative;background-color: white;}#sk-container-id-4 div.sk-parallel-item:first-child::after {align-self: flex-end;width: 50%;}#sk-container-id-4 div.sk-parallel-item:last-child::after {align-self: flex-start;width: 50%;}#sk-container-id-4 div.sk-parallel-item:only-child::after {width: 0;}#sk-container-id-4 div.sk-dashed-wrapped {border: 1px dashed gray;margin: 0 0.4em 0.5em 0.4em;box-sizing: border-box;padding-bottom: 0.4em;background-color: white;}#sk-container-id-4 div.sk-label label {font-family: monospace;font-weight: bold;display: inline-block;line-height: 1.2em;}#sk-container-id-4 div.sk-label-container {text-align: center;}#sk-container-id-4 div.sk-container {/* jupyter's `normalize.less` sets `[hidden] { display: none; }` but bootstrap.min.css set `[hidden] { display: none !important; }` so we also need the `!important` here to be able to override the default hidden behavior on the sphinx rendered scikit-learn.org. See: https://github.com/scikit-learn/scikit-learn/issues/21755 */display: inline-block !important;position: relative;}#sk-container-id-4 div.sk-text-repr-fallback {display: none;}</style><div id=\"sk-container-id-4\" class=\"sk-top-container\"><div class=\"sk-text-repr-fallback\"><pre>LogisticRegression(C=0.2, max_iter=1000, solver=&#x27;liblinear&#x27;)</pre><b>In a Jupyter environment, please rerun this cell to show the HTML representation or trust the notebook. <br />On GitHub, the HTML representation is unable to render, please try loading this page with nbviewer.org.</b></div><div class=\"sk-container\" hidden><div class=\"sk-item\"><div class=\"sk-estimator sk-toggleable\"><input class=\"sk-toggleable__control sk-hidden--visually\" id=\"sk-estimator-id-4\" type=\"checkbox\" checked><label for=\"sk-estimator-id-4\" class=\"sk-toggleable__label sk-toggleable__label-arrow\">LogisticRegression</label><div class=\"sk-toggleable__content\"><pre>LogisticRegression(C=0.2, max_iter=1000, solver=&#x27;liblinear&#x27;)</pre></div></div></div></div></div>"
      ],
      "text/plain": [
       "LogisticRegression(C=0.2, max_iter=1000, solver='liblinear')"
      ]
     },
     "execution_count": 69,
     "metadata": {},
     "output_type": "execute_result"
    }
   ],
   "source": [
    "# model definition\n",
    "lr = LogisticRegression(C=lr_max_accuracy['C'], solver=lr_max_accuracy['solver'], max_iter=lr_max_accuracy['max_iter'])\n",
    "\n",
    "# model fit\n",
    "lr.fit(X_train, y_train)"
   ]
  },
  {
   "cell_type": "markdown",
   "id": "5563d69b",
   "metadata": {
    "hidden": true
   },
   "source": [
    "**Training**"
   ]
  },
  {
   "cell_type": "code",
   "execution_count": 70,
   "id": "f0329b54",
   "metadata": {
    "ExecuteTime": {
     "end_time": "2023-10-30T20:06:22.011848Z",
     "start_time": "2023-10-30T20:06:21.919242Z"
    },
    "hidden": true
   },
   "outputs": [
    {
     "data": {
      "text/html": [
       "<div>\n",
       "<style scoped>\n",
       "    .dataframe tbody tr th:only-of-type {\n",
       "        vertical-align: middle;\n",
       "    }\n",
       "\n",
       "    .dataframe tbody tr th {\n",
       "        vertical-align: top;\n",
       "    }\n",
       "\n",
       "    .dataframe thead th {\n",
       "        text-align: right;\n",
       "    }\n",
       "</style>\n",
       "<table border=\"1\" class=\"dataframe\">\n",
       "  <thead>\n",
       "    <tr style=\"text-align: right;\">\n",
       "      <th></th>\n",
       "      <th>Algorithm</th>\n",
       "      <th>Accuracy</th>\n",
       "      <th>Precision</th>\n",
       "      <th>Recall</th>\n",
       "      <th>F1_score</th>\n",
       "    </tr>\n",
       "  </thead>\n",
       "  <tbody>\n",
       "    <tr>\n",
       "      <th>0</th>\n",
       "      <td>KNN</td>\n",
       "      <td>0.934055</td>\n",
       "      <td>0.964572</td>\n",
       "      <td>0.880171</td>\n",
       "      <td>0.920441</td>\n",
       "    </tr>\n",
       "    <tr>\n",
       "      <th>1</th>\n",
       "      <td>Decision Tree</td>\n",
       "      <td>0.973674</td>\n",
       "      <td>0.981817</td>\n",
       "      <td>0.956981</td>\n",
       "      <td>0.969240</td>\n",
       "    </tr>\n",
       "    <tr>\n",
       "      <th>2</th>\n",
       "      <td>Random Forest</td>\n",
       "      <td>1.000000</td>\n",
       "      <td>1.000000</td>\n",
       "      <td>1.000000</td>\n",
       "      <td>1.000000</td>\n",
       "    </tr>\n",
       "    <tr>\n",
       "      <th>3</th>\n",
       "      <td>Logistic Regression</td>\n",
       "      <td>0.875115</td>\n",
       "      <td>0.870152</td>\n",
       "      <td>0.836706</td>\n",
       "      <td>0.853101</td>\n",
       "    </tr>\n",
       "  </tbody>\n",
       "</table>\n",
       "</div>"
      ],
      "text/plain": [
       "             Algorithm  Accuracy  Precision    Recall  F1_score\n",
       "0                  KNN  0.934055   0.964572  0.880171  0.920441\n",
       "1        Decision Tree  0.973674   0.981817  0.956981  0.969240\n",
       "2        Random Forest  1.000000   1.000000  1.000000  1.000000\n",
       "3  Logistic Regression  0.875115   0.870152  0.836706  0.853101"
      ]
     },
     "execution_count": 70,
     "metadata": {},
     "output_type": "execute_result"
    }
   ],
   "source": [
    "train_scores = register_performance(lr, 'Logistic Regression', X_train, y_train, train_scores)\n",
    "train_scores"
   ]
  },
  {
   "cell_type": "code",
   "execution_count": 71,
   "id": "144677e5",
   "metadata": {
    "ExecuteTime": {
     "end_time": "2023-10-30T20:06:41.475688Z",
     "start_time": "2023-10-30T20:06:41.454917Z"
    },
    "hidden": true
   },
   "outputs": [
    {
     "data": {
      "text/plain": [
       "array([[37163,  3924],\n",
       "       [ 5132, 26296]])"
      ]
     },
     "execution_count": 71,
     "metadata": {},
     "output_type": "execute_result"
    }
   ],
   "source": [
    "confusion_matrix(y_train, lr.predict(X_train))"
   ]
  },
  {
   "cell_type": "markdown",
   "id": "d04279a9",
   "metadata": {
    "hidden": true
   },
   "source": [
    "**Validation**"
   ]
  },
  {
   "cell_type": "code",
   "execution_count": 72,
   "id": "2a6df700",
   "metadata": {
    "ExecuteTime": {
     "end_time": "2023-10-30T20:06:51.431242Z",
     "start_time": "2023-10-30T20:06:51.384130Z"
    },
    "hidden": true
   },
   "outputs": [
    {
     "data": {
      "text/html": [
       "<div>\n",
       "<style scoped>\n",
       "    .dataframe tbody tr th:only-of-type {\n",
       "        vertical-align: middle;\n",
       "    }\n",
       "\n",
       "    .dataframe tbody tr th {\n",
       "        vertical-align: top;\n",
       "    }\n",
       "\n",
       "    .dataframe thead th {\n",
       "        text-align: right;\n",
       "    }\n",
       "</style>\n",
       "<table border=\"1\" class=\"dataframe\">\n",
       "  <thead>\n",
       "    <tr style=\"text-align: right;\">\n",
       "      <th></th>\n",
       "      <th>Algorithm</th>\n",
       "      <th>Accuracy</th>\n",
       "      <th>Precision</th>\n",
       "      <th>Recall</th>\n",
       "      <th>F1_score</th>\n",
       "    </tr>\n",
       "  </thead>\n",
       "  <tbody>\n",
       "    <tr>\n",
       "      <th>0</th>\n",
       "      <td>KNN</td>\n",
       "      <td>0.926510</td>\n",
       "      <td>0.957389</td>\n",
       "      <td>0.869107</td>\n",
       "      <td>0.911115</td>\n",
       "    </tr>\n",
       "    <tr>\n",
       "      <th>1</th>\n",
       "      <td>Decision Tree</td>\n",
       "      <td>0.950706</td>\n",
       "      <td>0.954051</td>\n",
       "      <td>0.931101</td>\n",
       "      <td>0.942436</td>\n",
       "    </tr>\n",
       "    <tr>\n",
       "      <th>2</th>\n",
       "      <td>Random Forest</td>\n",
       "      <td>0.962193</td>\n",
       "      <td>0.971468</td>\n",
       "      <td>0.940382</td>\n",
       "      <td>0.955672</td>\n",
       "    </tr>\n",
       "    <tr>\n",
       "      <th>3</th>\n",
       "      <td>Logistic Regression</td>\n",
       "      <td>0.874095</td>\n",
       "      <td>0.869015</td>\n",
       "      <td>0.835400</td>\n",
       "      <td>0.851876</td>\n",
       "    </tr>\n",
       "  </tbody>\n",
       "</table>\n",
       "</div>"
      ],
      "text/plain": [
       "             Algorithm  Accuracy  Precision    Recall  F1_score\n",
       "0                  KNN  0.926510   0.957389  0.869107  0.911115\n",
       "1        Decision Tree  0.950706   0.954051  0.931101  0.942436\n",
       "2        Random Forest  0.962193   0.971468  0.940382  0.955672\n",
       "3  Logistic Regression  0.874095   0.869015  0.835400  0.851876"
      ]
     },
     "execution_count": 72,
     "metadata": {},
     "output_type": "execute_result"
    }
   ],
   "source": [
    "val_scores = register_performance(lr, 'Logistic Regression', X_val, y_val, val_scores)\n",
    "val_scores"
   ]
  },
  {
   "cell_type": "code",
   "execution_count": 73,
   "id": "1dd54529",
   "metadata": {
    "ExecuteTime": {
     "end_time": "2023-10-30T20:07:13.671052Z",
     "start_time": "2023-10-30T20:07:13.653564Z"
    },
    "hidden": true
   },
   "outputs": [
    {
     "data": {
      "text/plain": [
       "array([[15914,  1696],\n",
       "       [ 2217, 11252]])"
      ]
     },
     "execution_count": 73,
     "metadata": {},
     "output_type": "execute_result"
    }
   ],
   "source": [
    "confusion_matrix(y_val, lr.predict(X_val))"
   ]
  },
  {
   "cell_type": "markdown",
   "id": "197dd080",
   "metadata": {
    "hidden": true
   },
   "source": [
    "**Test**"
   ]
  },
  {
   "cell_type": "code",
   "execution_count": 74,
   "id": "c8e89b8d",
   "metadata": {
    "ExecuteTime": {
     "end_time": "2023-10-30T20:07:23.751431Z",
     "start_time": "2023-10-30T20:07:23.713372Z"
    },
    "hidden": true
   },
   "outputs": [
    {
     "data": {
      "text/html": [
       "<div>\n",
       "<style scoped>\n",
       "    .dataframe tbody tr th:only-of-type {\n",
       "        vertical-align: middle;\n",
       "    }\n",
       "\n",
       "    .dataframe tbody tr th {\n",
       "        vertical-align: top;\n",
       "    }\n",
       "\n",
       "    .dataframe thead th {\n",
       "        text-align: right;\n",
       "    }\n",
       "</style>\n",
       "<table border=\"1\" class=\"dataframe\">\n",
       "  <thead>\n",
       "    <tr style=\"text-align: right;\">\n",
       "      <th></th>\n",
       "      <th>Algorithm</th>\n",
       "      <th>Accuracy</th>\n",
       "      <th>Precision</th>\n",
       "      <th>Recall</th>\n",
       "      <th>F1_score</th>\n",
       "    </tr>\n",
       "  </thead>\n",
       "  <tbody>\n",
       "    <tr>\n",
       "      <th>0</th>\n",
       "      <td>KNN</td>\n",
       "      <td>0.924999</td>\n",
       "      <td>0.955173</td>\n",
       "      <td>0.869952</td>\n",
       "      <td>0.910573</td>\n",
       "    </tr>\n",
       "    <tr>\n",
       "      <th>1</th>\n",
       "      <td>Decision Tree</td>\n",
       "      <td>0.951570</td>\n",
       "      <td>0.955574</td>\n",
       "      <td>0.933040</td>\n",
       "      <td>0.944172</td>\n",
       "    </tr>\n",
       "    <tr>\n",
       "      <th>2</th>\n",
       "      <td>Random Forest</td>\n",
       "      <td>0.961766</td>\n",
       "      <td>0.970351</td>\n",
       "      <td>0.941663</td>\n",
       "      <td>0.955792</td>\n",
       "    </tr>\n",
       "    <tr>\n",
       "      <th>3</th>\n",
       "      <td>Logistic Regression</td>\n",
       "      <td>0.871703</td>\n",
       "      <td>0.868573</td>\n",
       "      <td>0.833876</td>\n",
       "      <td>0.850871</td>\n",
       "    </tr>\n",
       "  </tbody>\n",
       "</table>\n",
       "</div>"
      ],
      "text/plain": [
       "             Algorithm  Accuracy  Precision    Recall  F1_score\n",
       "0                  KNN  0.924999   0.955173  0.869952  0.910573\n",
       "1        Decision Tree  0.951570   0.955574  0.933040  0.944172\n",
       "2        Random Forest  0.961766   0.970351  0.941663  0.955792\n",
       "3  Logistic Regression  0.871703   0.868573  0.833876  0.850871"
      ]
     },
     "execution_count": 74,
     "metadata": {},
     "output_type": "execute_result"
    }
   ],
   "source": [
    "test_scores = register_performance(lr, 'Logistic Regression', X_test, y_test, test_scores)\n",
    "test_scores"
   ]
  },
  {
   "cell_type": "code",
   "execution_count": 75,
   "id": "45ef8ca3",
   "metadata": {
    "ExecuteTime": {
     "end_time": "2023-10-30T20:07:40.239668Z",
     "start_time": "2023-10-30T20:07:40.224308Z"
    },
    "hidden": true
   },
   "outputs": [
    {
     "data": {
      "text/plain": [
       "array([[13094,  1434],\n",
       "       [ 1888,  9477]])"
      ]
     },
     "execution_count": 75,
     "metadata": {},
     "output_type": "execute_result"
    }
   ],
   "source": [
    "confusion_matrix(y_test, lr.predict(X_test))"
   ]
  },
  {
   "cell_type": "markdown",
   "id": "3769e84c",
   "metadata": {
    "heading_collapsed": true
   },
   "source": [
    "# 2.0 Resumo"
   ]
  },
  {
   "cell_type": "code",
   "execution_count": 77,
   "id": "18d97aee",
   "metadata": {
    "ExecuteTime": {
     "end_time": "2023-10-30T20:09:44.885911Z",
     "start_time": "2023-10-30T20:09:44.874810Z"
    },
    "hidden": true
   },
   "outputs": [
    {
     "data": {
      "text/html": [
       "<div>\n",
       "<style scoped>\n",
       "    .dataframe tbody tr th:only-of-type {\n",
       "        vertical-align: middle;\n",
       "    }\n",
       "\n",
       "    .dataframe tbody tr th {\n",
       "        vertical-align: top;\n",
       "    }\n",
       "\n",
       "    .dataframe thead th {\n",
       "        text-align: right;\n",
       "    }\n",
       "</style>\n",
       "<table border=\"1\" class=\"dataframe\">\n",
       "  <thead>\n",
       "    <tr style=\"text-align: right;\">\n",
       "      <th></th>\n",
       "      <th>Algorithm</th>\n",
       "      <th>Accuracy</th>\n",
       "      <th>Precision</th>\n",
       "      <th>Recall</th>\n",
       "      <th>F1_score</th>\n",
       "    </tr>\n",
       "  </thead>\n",
       "  <tbody>\n",
       "    <tr>\n",
       "      <th>0</th>\n",
       "      <td>KNN</td>\n",
       "      <td>0.934055</td>\n",
       "      <td>0.964572</td>\n",
       "      <td>0.880171</td>\n",
       "      <td>0.920441</td>\n",
       "    </tr>\n",
       "    <tr>\n",
       "      <th>1</th>\n",
       "      <td>Decision Tree</td>\n",
       "      <td>0.973674</td>\n",
       "      <td>0.981817</td>\n",
       "      <td>0.956981</td>\n",
       "      <td>0.969240</td>\n",
       "    </tr>\n",
       "    <tr>\n",
       "      <th>2</th>\n",
       "      <td>Random Forest</td>\n",
       "      <td>1.000000</td>\n",
       "      <td>1.000000</td>\n",
       "      <td>1.000000</td>\n",
       "      <td>1.000000</td>\n",
       "    </tr>\n",
       "    <tr>\n",
       "      <th>3</th>\n",
       "      <td>Logistic Regression</td>\n",
       "      <td>0.875115</td>\n",
       "      <td>0.870152</td>\n",
       "      <td>0.836706</td>\n",
       "      <td>0.853101</td>\n",
       "    </tr>\n",
       "  </tbody>\n",
       "</table>\n",
       "</div>"
      ],
      "text/plain": [
       "             Algorithm  Accuracy  Precision    Recall  F1_score\n",
       "0                  KNN  0.934055   0.964572  0.880171  0.920441\n",
       "1        Decision Tree  0.973674   0.981817  0.956981  0.969240\n",
       "2        Random Forest  1.000000   1.000000  1.000000  1.000000\n",
       "3  Logistic Regression  0.875115   0.870152  0.836706  0.853101"
      ]
     },
     "execution_count": 77,
     "metadata": {},
     "output_type": "execute_result"
    }
   ],
   "source": [
    "# train_scores.to_csv('output/classification/train_scores.csv', index=False)\n",
    "train_scores"
   ]
  },
  {
   "cell_type": "code",
   "execution_count": 78,
   "id": "23ebb35c",
   "metadata": {
    "ExecuteTime": {
     "end_time": "2023-10-30T20:09:58.519766Z",
     "start_time": "2023-10-30T20:09:58.511844Z"
    },
    "hidden": true
   },
   "outputs": [
    {
     "data": {
      "text/html": [
       "<div>\n",
       "<style scoped>\n",
       "    .dataframe tbody tr th:only-of-type {\n",
       "        vertical-align: middle;\n",
       "    }\n",
       "\n",
       "    .dataframe tbody tr th {\n",
       "        vertical-align: top;\n",
       "    }\n",
       "\n",
       "    .dataframe thead th {\n",
       "        text-align: right;\n",
       "    }\n",
       "</style>\n",
       "<table border=\"1\" class=\"dataframe\">\n",
       "  <thead>\n",
       "    <tr style=\"text-align: right;\">\n",
       "      <th></th>\n",
       "      <th>Algorithm</th>\n",
       "      <th>Accuracy</th>\n",
       "      <th>Precision</th>\n",
       "      <th>Recall</th>\n",
       "      <th>F1_score</th>\n",
       "    </tr>\n",
       "  </thead>\n",
       "  <tbody>\n",
       "    <tr>\n",
       "      <th>0</th>\n",
       "      <td>KNN</td>\n",
       "      <td>0.926510</td>\n",
       "      <td>0.957389</td>\n",
       "      <td>0.869107</td>\n",
       "      <td>0.911115</td>\n",
       "    </tr>\n",
       "    <tr>\n",
       "      <th>1</th>\n",
       "      <td>Decision Tree</td>\n",
       "      <td>0.950706</td>\n",
       "      <td>0.954051</td>\n",
       "      <td>0.931101</td>\n",
       "      <td>0.942436</td>\n",
       "    </tr>\n",
       "    <tr>\n",
       "      <th>2</th>\n",
       "      <td>Random Forest</td>\n",
       "      <td>0.962193</td>\n",
       "      <td>0.971468</td>\n",
       "      <td>0.940382</td>\n",
       "      <td>0.955672</td>\n",
       "    </tr>\n",
       "    <tr>\n",
       "      <th>3</th>\n",
       "      <td>Logistic Regression</td>\n",
       "      <td>0.874095</td>\n",
       "      <td>0.869015</td>\n",
       "      <td>0.835400</td>\n",
       "      <td>0.851876</td>\n",
       "    </tr>\n",
       "  </tbody>\n",
       "</table>\n",
       "</div>"
      ],
      "text/plain": [
       "             Algorithm  Accuracy  Precision    Recall  F1_score\n",
       "0                  KNN  0.926510   0.957389  0.869107  0.911115\n",
       "1        Decision Tree  0.950706   0.954051  0.931101  0.942436\n",
       "2        Random Forest  0.962193   0.971468  0.940382  0.955672\n",
       "3  Logistic Regression  0.874095   0.869015  0.835400  0.851876"
      ]
     },
     "execution_count": 78,
     "metadata": {},
     "output_type": "execute_result"
    }
   ],
   "source": [
    "# val_scores.to_csv('output/classification/val_scores.csv', index=False)\n",
    "val_scores"
   ]
  },
  {
   "cell_type": "code",
   "execution_count": 79,
   "id": "a4734264",
   "metadata": {
    "ExecuteTime": {
     "end_time": "2023-10-30T20:10:15.602770Z",
     "start_time": "2023-10-30T20:10:15.597371Z"
    },
    "hidden": true
   },
   "outputs": [
    {
     "data": {
      "text/html": [
       "<div>\n",
       "<style scoped>\n",
       "    .dataframe tbody tr th:only-of-type {\n",
       "        vertical-align: middle;\n",
       "    }\n",
       "\n",
       "    .dataframe tbody tr th {\n",
       "        vertical-align: top;\n",
       "    }\n",
       "\n",
       "    .dataframe thead th {\n",
       "        text-align: right;\n",
       "    }\n",
       "</style>\n",
       "<table border=\"1\" class=\"dataframe\">\n",
       "  <thead>\n",
       "    <tr style=\"text-align: right;\">\n",
       "      <th></th>\n",
       "      <th>Algorithm</th>\n",
       "      <th>Accuracy</th>\n",
       "      <th>Precision</th>\n",
       "      <th>Recall</th>\n",
       "      <th>F1_score</th>\n",
       "    </tr>\n",
       "  </thead>\n",
       "  <tbody>\n",
       "    <tr>\n",
       "      <th>0</th>\n",
       "      <td>KNN</td>\n",
       "      <td>0.924999</td>\n",
       "      <td>0.955173</td>\n",
       "      <td>0.869952</td>\n",
       "      <td>0.910573</td>\n",
       "    </tr>\n",
       "    <tr>\n",
       "      <th>1</th>\n",
       "      <td>Decision Tree</td>\n",
       "      <td>0.951570</td>\n",
       "      <td>0.955574</td>\n",
       "      <td>0.933040</td>\n",
       "      <td>0.944172</td>\n",
       "    </tr>\n",
       "    <tr>\n",
       "      <th>2</th>\n",
       "      <td>Random Forest</td>\n",
       "      <td>0.961766</td>\n",
       "      <td>0.970351</td>\n",
       "      <td>0.941663</td>\n",
       "      <td>0.955792</td>\n",
       "    </tr>\n",
       "    <tr>\n",
       "      <th>3</th>\n",
       "      <td>Logistic Regression</td>\n",
       "      <td>0.871703</td>\n",
       "      <td>0.868573</td>\n",
       "      <td>0.833876</td>\n",
       "      <td>0.850871</td>\n",
       "    </tr>\n",
       "  </tbody>\n",
       "</table>\n",
       "</div>"
      ],
      "text/plain": [
       "             Algorithm  Accuracy  Precision    Recall  F1_score\n",
       "0                  KNN  0.924999   0.955173  0.869952  0.910573\n",
       "1        Decision Tree  0.951570   0.955574  0.933040  0.944172\n",
       "2        Random Forest  0.961766   0.970351  0.941663  0.955792\n",
       "3  Logistic Regression  0.871703   0.868573  0.833876  0.850871"
      ]
     },
     "execution_count": 79,
     "metadata": {},
     "output_type": "execute_result"
    }
   ],
   "source": [
    "# test_scores.to_csv('output/classification/test_scores.csv', index=False)\n",
    "test_scores"
   ]
  }
 ],
 "metadata": {
  "kernelspec": {
   "display_name": "Python 3 (ipykernel)",
   "language": "python",
   "name": "python3"
  },
  "language_info": {
   "codemirror_mode": {
    "name": "ipython",
    "version": 3
   },
   "file_extension": ".py",
   "mimetype": "text/x-python",
   "name": "python",
   "nbconvert_exporter": "python",
   "pygments_lexer": "ipython3",
   "version": "3.10.6"
  }
 },
 "nbformat": 4,
 "nbformat_minor": 5
}
